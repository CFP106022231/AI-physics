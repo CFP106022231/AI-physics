{
 "cells": [
  {
   "cell_type": "code",
   "execution_count": 1,
   "id": "based-handy",
   "metadata": {
    "_cell_guid": "b1076dfc-b9ad-4769-8c92-a6c4dae69d19",
    "_uuid": "8f2839f25d086af736a60e9eeb907d3b93b6e0e5",
    "execution": {
     "iopub.execute_input": "2021-05-07T14:02:01.016739Z",
     "iopub.status.busy": "2021-05-07T14:02:01.015718Z",
     "iopub.status.idle": "2021-05-07T14:02:02.041682Z",
     "shell.execute_reply": "2021-05-07T14:02:02.040874Z"
    },
    "papermill": {
     "duration": 1.05397,
     "end_time": "2021-05-07T14:02:02.041904",
     "exception": false,
     "start_time": "2021-05-07T14:02:00.987934",
     "status": "completed"
    },
    "tags": []
   },
   "outputs": [
    {
     "name": "stdout",
     "output_type": "stream",
     "text": [
      "/kaggle/input/project-1-2d-ising-model/2d_Ising.pickle\n",
      "/kaggle/input/project-1-2d-ising-model/readme.txt\n"
     ]
    }
   ],
   "source": [
    "# This Python 3 environment comes with many helpful analytics libraries installed\n",
    "# It is defined by the kaggle/python Docker image: https://github.com/kaggle/docker-python\n",
    "# For example, here's several helpful packages to load\n",
    "\n",
    "import numpy as np # linear algebra\n",
    "import pandas as pd # data processing, CSV file I/O (e.g. pd.read_csv)\n",
    "import matplotlib \n",
    "import matplotlib.pyplot as plt \n",
    "import seaborn as sns\n",
    "\n",
    "# Input data files are available in the read-only \"../input/\" directory\n",
    "# For example, running this (by clicking run or pressing Shift+Enter) will list all files under the input directory\n",
    "\n",
    "import os\n",
    "for dirname, _, filenames in os.walk('/kaggle/input'):\n",
    "    for filename in filenames:\n",
    "        print(os.path.join(dirname, filename))\n",
    "\n",
    "# You can write up to 20GB to the current directory (/kaggle/working/) that gets preserved as output when you create a version using \"Save & Run All\" \n",
    "# You can also write temporary files to /kaggle/temp/, but they won't be saved outside of the current session"
   ]
  },
  {
   "cell_type": "code",
   "execution_count": 2,
   "id": "latin-ancient",
   "metadata": {
    "execution": {
     "iopub.execute_input": "2021-05-07T14:02:02.079063Z",
     "iopub.status.busy": "2021-05-07T14:02:02.078092Z",
     "iopub.status.idle": "2021-05-07T14:02:02.081405Z",
     "shell.execute_reply": "2021-05-07T14:02:02.080782Z"
    },
    "papermill": {
     "duration": 0.023297,
     "end_time": "2021-05-07T14:02:02.081597",
     "exception": false,
     "start_time": "2021-05-07T14:02:02.058300",
     "status": "completed"
    },
    "tags": []
   },
   "outputs": [],
   "source": [
    "import random\n",
    "from matplotlib.colors import ListedColormap"
   ]
  },
  {
   "cell_type": "markdown",
   "id": "appreciated-bikini",
   "metadata": {
    "papermill": {
     "duration": 0.01424,
     "end_time": "2021-05-07T14:02:02.111359",
     "exception": false,
     "start_time": "2021-05-07T14:02:02.097119",
     "status": "completed"
    },
    "tags": []
   },
   "source": [
    "# Load Data: 2-D Ising Model\n",
    "Classical 2d Ising (system size = 10*10, periodic boundary condition)\n",
    "\n",
    "100 ensembles for each temperature"
   ]
  },
  {
   "cell_type": "code",
   "execution_count": 3,
   "id": "statewide-description",
   "metadata": {
    "execution": {
     "iopub.execute_input": "2021-05-07T14:02:02.146640Z",
     "iopub.status.busy": "2021-05-07T14:02:02.145898Z",
     "iopub.status.idle": "2021-05-07T14:02:03.291158Z",
     "shell.execute_reply": "2021-05-07T14:02:03.291717Z"
    },
    "papermill": {
     "duration": 1.165986,
     "end_time": "2021-05-07T14:02:03.291962",
     "exception": false,
     "start_time": "2021-05-07T14:02:02.125976",
     "status": "completed"
    },
    "tags": []
   },
   "outputs": [],
   "source": [
    "import pickle \n",
    "with open('../input/project-1-2d-ising-model/2d_Ising.pickle', 'rb') as f:\n",
    "    data = pickle.load(f)"
   ]
  },
  {
   "cell_type": "code",
   "execution_count": 4,
   "id": "weighted-simulation",
   "metadata": {
    "collapsed": true,
    "execution": {
     "iopub.execute_input": "2021-05-07T14:02:03.326836Z",
     "iopub.status.busy": "2021-05-07T14:02:03.325796Z",
     "iopub.status.idle": "2021-05-07T14:02:03.354533Z",
     "shell.execute_reply": "2021-05-07T14:02:03.353868Z"
    },
    "jupyter": {
     "outputs_hidden": true
    },
    "papermill": {
     "duration": 0.047368,
     "end_time": "2021-05-07T14:02:03.354700",
     "exception": false,
     "start_time": "2021-05-07T14:02:03.307332",
     "status": "completed"
    },
    "tags": []
   },
   "outputs": [
    {
     "data": {
      "text/plain": [
       "{'x_data': array([[[[ 1.,  1.,  1., ...,  1.,  1.,  1.],\n",
       "          [ 1.,  1.,  1., ...,  1.,  1.,  1.],\n",
       "          [ 1.,  1.,  1., ...,  1.,  1.,  1.],\n",
       "          ...,\n",
       "          [ 1.,  1.,  1., ...,  1.,  1.,  1.],\n",
       "          [ 1.,  1.,  1., ...,  1.,  1.,  1.],\n",
       "          [ 1.,  1.,  1., ...,  1.,  1.,  1.]],\n",
       " \n",
       "         [[ 1.,  1.,  1., ...,  1.,  1.,  1.],\n",
       "          [ 1.,  1.,  1., ...,  1.,  1.,  1.],\n",
       "          [ 1.,  1.,  1., ...,  1.,  1.,  1.],\n",
       "          ...,\n",
       "          [ 1.,  1.,  1., ...,  1.,  1.,  1.],\n",
       "          [ 1.,  1.,  1., ...,  1.,  1.,  1.],\n",
       "          [ 1.,  1.,  1., ...,  1.,  1.,  1.]],\n",
       " \n",
       "         [[ 1.,  1.,  1., ...,  1.,  1.,  1.],\n",
       "          [ 1.,  1.,  1., ...,  1.,  1.,  1.],\n",
       "          [ 1.,  1.,  1., ...,  1.,  1.,  1.],\n",
       "          ...,\n",
       "          [ 1.,  1.,  1., ...,  1.,  1.,  1.],\n",
       "          [ 1.,  1.,  1., ...,  1.,  1.,  1.],\n",
       "          [ 1.,  1.,  1., ...,  1.,  1.,  1.]],\n",
       " \n",
       "         ...,\n",
       " \n",
       "         [[ 1.,  1.,  1., ...,  1.,  1.,  1.],\n",
       "          [ 1.,  1.,  1., ...,  1.,  1.,  1.],\n",
       "          [ 1.,  1.,  1., ...,  1.,  1.,  1.],\n",
       "          ...,\n",
       "          [ 1.,  1.,  1., ...,  1.,  1.,  1.],\n",
       "          [ 1.,  1.,  1., ...,  1.,  1.,  1.],\n",
       "          [ 1.,  1.,  1., ...,  1.,  1.,  1.]],\n",
       " \n",
       "         [[ 1.,  1.,  1., ...,  1.,  1.,  1.],\n",
       "          [ 1.,  1.,  1., ...,  1.,  1.,  1.],\n",
       "          [ 1.,  1.,  1., ...,  1.,  1.,  1.],\n",
       "          ...,\n",
       "          [ 1.,  1.,  1., ...,  1.,  1.,  1.],\n",
       "          [ 1.,  1.,  1., ...,  1.,  1.,  1.],\n",
       "          [ 1.,  1.,  1., ...,  1.,  1.,  1.]],\n",
       " \n",
       "         [[ 1.,  1.,  1., ...,  1.,  1.,  1.],\n",
       "          [ 1.,  1.,  1., ...,  1.,  1.,  1.],\n",
       "          [ 1.,  1.,  1., ...,  1.,  1.,  1.],\n",
       "          ...,\n",
       "          [ 1.,  1.,  1., ...,  1.,  1.,  1.],\n",
       "          [ 1.,  1.,  1., ...,  1.,  1.,  1.],\n",
       "          [ 1.,  1.,  1., ...,  1.,  1.,  1.]]],\n",
       " \n",
       " \n",
       "        [[[ 1.,  1.,  1., ...,  1.,  1.,  1.],\n",
       "          [ 1.,  1.,  1., ...,  1.,  1.,  1.],\n",
       "          [ 1.,  1.,  1., ...,  1.,  1.,  1.],\n",
       "          ...,\n",
       "          [ 1.,  1.,  1., ...,  1.,  1.,  1.],\n",
       "          [ 1.,  1.,  1., ...,  1.,  1.,  1.],\n",
       "          [ 1.,  1.,  1., ...,  1.,  1.,  1.]],\n",
       " \n",
       "         [[ 1.,  1.,  1., ...,  1.,  1.,  1.],\n",
       "          [ 1.,  1.,  1., ...,  1.,  1.,  1.],\n",
       "          [ 1.,  1.,  1., ...,  1.,  1.,  1.],\n",
       "          ...,\n",
       "          [ 1.,  1.,  1., ...,  1.,  1.,  1.],\n",
       "          [ 1.,  1.,  1., ...,  1.,  1.,  1.],\n",
       "          [ 1.,  1.,  1., ...,  1.,  1.,  1.]],\n",
       " \n",
       "         [[ 1.,  1.,  1., ...,  1.,  1.,  1.],\n",
       "          [ 1.,  1.,  1., ...,  1.,  1.,  1.],\n",
       "          [ 1.,  1.,  1., ...,  1.,  1.,  1.],\n",
       "          ...,\n",
       "          [ 1.,  1.,  1., ...,  1.,  1.,  1.],\n",
       "          [ 1.,  1.,  1., ...,  1.,  1.,  1.],\n",
       "          [ 1.,  1.,  1., ...,  1.,  1.,  1.]],\n",
       " \n",
       "         ...,\n",
       " \n",
       "         [[ 1.,  1.,  1., ...,  1.,  1.,  1.],\n",
       "          [ 1.,  1.,  1., ...,  1.,  1.,  1.],\n",
       "          [ 1.,  1.,  1., ...,  1.,  1.,  1.],\n",
       "          ...,\n",
       "          [ 1.,  1.,  1., ...,  1.,  1.,  1.],\n",
       "          [ 1.,  1.,  1., ...,  1.,  1.,  1.],\n",
       "          [ 1.,  1.,  1., ...,  1.,  1.,  1.]],\n",
       " \n",
       "         [[ 1.,  1.,  1., ...,  1.,  1.,  1.],\n",
       "          [ 1.,  1.,  1., ...,  1.,  1.,  1.],\n",
       "          [ 1.,  1.,  1., ...,  1.,  1.,  1.],\n",
       "          ...,\n",
       "          [ 1.,  1.,  1., ...,  1.,  1.,  1.],\n",
       "          [ 1.,  1.,  1., ...,  1.,  1.,  1.],\n",
       "          [ 1.,  1.,  1., ...,  1.,  1.,  1.]],\n",
       " \n",
       "         [[ 1.,  1.,  1., ...,  1.,  1.,  1.],\n",
       "          [ 1.,  1.,  1., ...,  1.,  1.,  1.],\n",
       "          [ 1.,  1.,  1., ...,  1.,  1.,  1.],\n",
       "          ...,\n",
       "          [ 1.,  1.,  1., ...,  1.,  1.,  1.],\n",
       "          [ 1.,  1.,  1., ...,  1.,  1.,  1.],\n",
       "          [ 1.,  1.,  1., ...,  1.,  1.,  1.]]],\n",
       " \n",
       " \n",
       "        [[[ 1.,  1.,  1., ...,  1.,  1.,  1.],\n",
       "          [ 1.,  1.,  1., ...,  1.,  1.,  1.],\n",
       "          [ 1.,  1.,  1., ...,  1.,  1.,  1.],\n",
       "          ...,\n",
       "          [ 1.,  1.,  1., ...,  1.,  1.,  1.],\n",
       "          [ 1.,  1.,  1., ...,  1.,  1.,  1.],\n",
       "          [ 1.,  1.,  1., ...,  1.,  1.,  1.]],\n",
       " \n",
       "         [[ 1.,  1.,  1., ...,  1.,  1.,  1.],\n",
       "          [ 1.,  1.,  1., ...,  1.,  1.,  1.],\n",
       "          [ 1.,  1.,  1., ...,  1.,  1.,  1.],\n",
       "          ...,\n",
       "          [ 1.,  1.,  1., ...,  1.,  1.,  1.],\n",
       "          [ 1.,  1.,  1., ...,  1.,  1.,  1.],\n",
       "          [ 1.,  1.,  1., ...,  1.,  1.,  1.]],\n",
       " \n",
       "         [[ 1.,  1.,  1., ...,  1.,  1.,  1.],\n",
       "          [ 1.,  1.,  1., ...,  1.,  1.,  1.],\n",
       "          [ 1.,  1.,  1., ...,  1.,  1.,  1.],\n",
       "          ...,\n",
       "          [ 1.,  1.,  1., ...,  1.,  1.,  1.],\n",
       "          [ 1.,  1.,  1., ...,  1.,  1.,  1.],\n",
       "          [ 1.,  1.,  1., ...,  1.,  1.,  1.]],\n",
       " \n",
       "         ...,\n",
       " \n",
       "         [[ 1.,  1.,  1., ...,  1.,  1.,  1.],\n",
       "          [ 1.,  1.,  1., ...,  1.,  1.,  1.],\n",
       "          [ 1.,  1.,  1., ...,  1.,  1.,  1.],\n",
       "          ...,\n",
       "          [ 1.,  1.,  1., ...,  1.,  1.,  1.],\n",
       "          [ 1.,  1.,  1., ...,  1.,  1.,  1.],\n",
       "          [ 1.,  1.,  1., ...,  1.,  1.,  1.]],\n",
       " \n",
       "         [[ 1.,  1.,  1., ...,  1.,  1.,  1.],\n",
       "          [ 1.,  1.,  1., ...,  1.,  1.,  1.],\n",
       "          [ 1.,  1.,  1., ...,  1.,  1.,  1.],\n",
       "          ...,\n",
       "          [ 1.,  1.,  1., ...,  1.,  1.,  1.],\n",
       "          [ 1.,  1.,  1., ...,  1.,  1.,  1.],\n",
       "          [ 1.,  1.,  1., ...,  1.,  1.,  1.]],\n",
       " \n",
       "         [[ 1.,  1.,  1., ...,  1.,  1.,  1.],\n",
       "          [ 1.,  1.,  1., ...,  1.,  1.,  1.],\n",
       "          [ 1.,  1.,  1., ...,  1.,  1.,  1.],\n",
       "          ...,\n",
       "          [ 1.,  1.,  1., ...,  1.,  1.,  1.],\n",
       "          [ 1.,  1.,  1., ...,  1.,  1.,  1.],\n",
       "          [ 1.,  1.,  1., ...,  1.,  1.,  1.]]],\n",
       " \n",
       " \n",
       "        ...,\n",
       " \n",
       " \n",
       "        [[[ 1., -1., -1., ..., -1., -1.,  1.],\n",
       "          [ 1., -1., -1., ..., -1., -1.,  1.],\n",
       "          [-1., -1., -1., ..., -1.,  1., -1.],\n",
       "          ...,\n",
       "          [ 1., -1., -1., ...,  1., -1., -1.],\n",
       "          [-1., -1.,  1., ...,  1.,  1., -1.],\n",
       "          [ 1., -1., -1., ..., -1., -1.,  1.]],\n",
       " \n",
       "         [[ 1., -1.,  1., ..., -1., -1., -1.],\n",
       "          [-1.,  1., -1., ...,  1., -1., -1.],\n",
       "          [-1.,  1., -1., ..., -1., -1., -1.],\n",
       "          ...,\n",
       "          [ 1.,  1., -1., ...,  1., -1., -1.],\n",
       "          [ 1.,  1.,  1., ..., -1.,  1., -1.],\n",
       "          [-1., -1.,  1., ...,  1.,  1.,  1.]],\n",
       " \n",
       "         [[-1.,  1., -1., ..., -1., -1., -1.],\n",
       "          [-1.,  1., -1., ..., -1., -1.,  1.],\n",
       "          [-1.,  1., -1., ..., -1., -1., -1.],\n",
       "          ...,\n",
       "          [-1.,  1.,  1., ...,  1.,  1.,  1.],\n",
       "          [ 1.,  1.,  1., ...,  1.,  1.,  1.],\n",
       "          [-1., -1., -1., ...,  1.,  1., -1.]],\n",
       " \n",
       "         ...,\n",
       " \n",
       "         [[-1., -1., -1., ..., -1.,  1., -1.],\n",
       "          [ 1.,  1., -1., ..., -1., -1.,  1.],\n",
       "          [ 1.,  1.,  1., ..., -1.,  1.,  1.],\n",
       "          ...,\n",
       "          [ 1.,  1., -1., ..., -1.,  1.,  1.],\n",
       "          [ 1., -1., -1., ...,  1.,  1.,  1.],\n",
       "          [-1., -1., -1., ...,  1.,  1.,  1.]],\n",
       " \n",
       "         [[ 1.,  1.,  1., ...,  1., -1., -1.],\n",
       "          [-1.,  1.,  1., ..., -1., -1., -1.],\n",
       "          [-1., -1., -1., ..., -1., -1., -1.],\n",
       "          ...,\n",
       "          [-1.,  1.,  1., ..., -1.,  1., -1.],\n",
       "          [ 1.,  1., -1., ...,  1.,  1.,  1.],\n",
       "          [ 1.,  1.,  1., ...,  1., -1., -1.]],\n",
       " \n",
       "         [[-1., -1., -1., ...,  1.,  1.,  1.],\n",
       "          [-1.,  1.,  1., ...,  1., -1., -1.],\n",
       "          [ 1.,  1.,  1., ..., -1., -1., -1.],\n",
       "          ...,\n",
       "          [ 1.,  1., -1., ..., -1., -1., -1.],\n",
       "          [ 1.,  1.,  1., ..., -1.,  1.,  1.],\n",
       "          [ 1.,  1.,  1., ...,  1.,  1.,  1.]]],\n",
       " \n",
       " \n",
       "        [[[ 1., -1., -1., ...,  1.,  1.,  1.],\n",
       "          [-1., -1., -1., ...,  1.,  1.,  1.],\n",
       "          [ 1.,  1.,  1., ...,  1., -1.,  1.],\n",
       "          ...,\n",
       "          [-1., -1., -1., ...,  1.,  1.,  1.],\n",
       "          [ 1., -1., -1., ...,  1.,  1.,  1.],\n",
       "          [ 1.,  1.,  1., ...,  1.,  1., -1.]],\n",
       " \n",
       "         [[-1.,  1., -1., ...,  1.,  1., -1.],\n",
       "          [ 1.,  1., -1., ..., -1., -1., -1.],\n",
       "          [ 1., -1., -1., ...,  1.,  1.,  1.],\n",
       "          ...,\n",
       "          [-1.,  1.,  1., ...,  1.,  1.,  1.],\n",
       "          [-1., -1.,  1., ...,  1.,  1., -1.],\n",
       "          [-1., -1.,  1., ...,  1.,  1., -1.]],\n",
       " \n",
       "         [[ 1., -1., -1., ..., -1., -1., -1.],\n",
       "          [ 1., -1., -1., ...,  1.,  1.,  1.],\n",
       "          [ 1., -1., -1., ...,  1.,  1., -1.],\n",
       "          ...,\n",
       "          [-1., -1., -1., ...,  1.,  1., -1.],\n",
       "          [ 1.,  1., -1., ...,  1., -1.,  1.],\n",
       "          [ 1., -1., -1., ..., -1., -1., -1.]],\n",
       " \n",
       "         ...,\n",
       " \n",
       "         [[ 1., -1.,  1., ...,  1.,  1., -1.],\n",
       "          [-1.,  1.,  1., ...,  1.,  1., -1.],\n",
       "          [-1.,  1., -1., ..., -1., -1., -1.],\n",
       "          ...,\n",
       "          [ 1., -1., -1., ...,  1., -1., -1.],\n",
       "          [ 1.,  1.,  1., ..., -1.,  1.,  1.],\n",
       "          [ 1.,  1.,  1., ...,  1.,  1.,  1.]],\n",
       " \n",
       "         [[ 1.,  1.,  1., ..., -1., -1.,  1.],\n",
       "          [ 1.,  1.,  1., ...,  1., -1.,  1.],\n",
       "          [-1.,  1.,  1., ...,  1., -1.,  1.],\n",
       "          ...,\n",
       "          [ 1.,  1.,  1., ..., -1.,  1.,  1.],\n",
       "          [ 1.,  1.,  1., ..., -1., -1.,  1.],\n",
       "          [ 1.,  1.,  1., ..., -1.,  1.,  1.]],\n",
       " \n",
       "         [[-1., -1.,  1., ..., -1.,  1., -1.],\n",
       "          [ 1., -1., -1., ..., -1.,  1.,  1.],\n",
       "          [-1., -1., -1., ...,  1., -1., -1.],\n",
       "          ...,\n",
       "          [-1.,  1.,  1., ...,  1.,  1., -1.],\n",
       "          [ 1.,  1., -1., ..., -1., -1., -1.],\n",
       "          [-1.,  1., -1., ..., -1.,  1.,  1.]]],\n",
       " \n",
       " \n",
       "        [[[ 1.,  1.,  1., ...,  1., -1.,  1.],\n",
       "          [ 1.,  1.,  1., ...,  1., -1., -1.],\n",
       "          [-1., -1., -1., ..., -1., -1., -1.],\n",
       "          ...,\n",
       "          [-1.,  1., -1., ...,  1., -1., -1.],\n",
       "          [-1.,  1., -1., ...,  1.,  1., -1.],\n",
       "          [ 1.,  1.,  1., ...,  1., -1., -1.]],\n",
       " \n",
       "         [[-1.,  1., -1., ..., -1.,  1., -1.],\n",
       "          [-1., -1.,  1., ...,  1.,  1., -1.],\n",
       "          [-1., -1., -1., ...,  1.,  1.,  1.],\n",
       "          ...,\n",
       "          [-1., -1., -1., ..., -1., -1., -1.],\n",
       "          [-1., -1., -1., ...,  1., -1., -1.],\n",
       "          [ 1.,  1., -1., ..., -1., -1.,  1.]],\n",
       " \n",
       "         [[-1.,  1.,  1., ...,  1., -1., -1.],\n",
       "          [-1.,  1.,  1., ..., -1., -1., -1.],\n",
       "          [ 1.,  1., -1., ..., -1., -1., -1.],\n",
       "          ...,\n",
       "          [-1.,  1., -1., ..., -1., -1., -1.],\n",
       "          [ 1.,  1., -1., ..., -1., -1., -1.],\n",
       "          [-1., -1.,  1., ...,  1., -1., -1.]],\n",
       " \n",
       "         ...,\n",
       " \n",
       "         [[ 1.,  1.,  1., ...,  1.,  1., -1.],\n",
       "          [-1., -1., -1., ...,  1.,  1., -1.],\n",
       "          [ 1., -1., -1., ...,  1., -1., -1.],\n",
       "          ...,\n",
       "          [-1., -1., -1., ..., -1., -1., -1.],\n",
       "          [ 1.,  1.,  1., ...,  1.,  1., -1.],\n",
       "          [ 1., -1.,  1., ...,  1.,  1.,  1.]],\n",
       " \n",
       "         [[ 1.,  1., -1., ..., -1.,  1.,  1.],\n",
       "          [ 1., -1., -1., ..., -1., -1., -1.],\n",
       "          [-1., -1.,  1., ..., -1.,  1.,  1.],\n",
       "          ...,\n",
       "          [ 1.,  1.,  1., ...,  1.,  1.,  1.],\n",
       "          [-1., -1.,  1., ...,  1.,  1., -1.],\n",
       "          [ 1., -1., -1., ..., -1., -1.,  1.]],\n",
       " \n",
       "         [[-1.,  1.,  1., ...,  1., -1.,  1.],\n",
       "          [ 1., -1.,  1., ...,  1., -1., -1.],\n",
       "          [ 1.,  1.,  1., ...,  1., -1., -1.],\n",
       "          ...,\n",
       "          [ 1.,  1.,  1., ..., -1.,  1.,  1.],\n",
       "          [-1.,  1.,  1., ...,  1., -1.,  1.],\n",
       "          [ 1.,  1., -1., ...,  1., -1.,  1.]]]]),\n",
       " 'y_data': array([[0., 1.],\n",
       "        [0., 1.],\n",
       "        [0., 1.],\n",
       "        ...,\n",
       "        [1., 0.],\n",
       "        [1., 0.],\n",
       "        [1., 0.]]),\n",
       " 'Temperature': array([0.   , 0.005, 0.01 , ..., 4.99 , 4.995, 5.   ])}"
      ]
     },
     "execution_count": 4,
     "metadata": {},
     "output_type": "execute_result"
    }
   ],
   "source": [
    "data"
   ]
  },
  {
   "cell_type": "markdown",
   "id": "stuffed-permit",
   "metadata": {
    "papermill": {
     "duration": 0.015511,
     "end_time": "2021-05-07T14:02:03.386183",
     "exception": false,
     "start_time": "2021-05-07T14:02:03.370672",
     "status": "completed"
    },
    "tags": []
   },
   "source": [
    "# 處理**spin**的資料"
   ]
  },
  {
   "cell_type": "code",
   "execution_count": 5,
   "id": "adopted-tourist",
   "metadata": {
    "execution": {
     "iopub.execute_input": "2021-05-07T14:02:03.425678Z",
     "iopub.status.busy": "2021-05-07T14:02:03.424221Z",
     "iopub.status.idle": "2021-05-07T14:02:03.503135Z",
     "shell.execute_reply": "2021-05-07T14:02:03.502416Z"
    },
    "papermill": {
     "duration": 0.100971,
     "end_time": "2021-05-07T14:02:03.503300",
     "exception": false,
     "start_time": "2021-05-07T14:02:03.402329",
     "status": "completed"
    },
    "tags": []
   },
   "outputs": [
    {
     "name": "stdout",
     "output_type": "stream",
     "text": [
      "Shape of Spin Date (1001, 100, 10, 10)\n"
     ]
    }
   ],
   "source": [
    "spin = data['x_data']\n",
    "type(spin)\n",
    "print('Shape of Spin Date', spin.shape)\n",
    "np.save(\"spin\",spin)"
   ]
  },
  {
   "cell_type": "code",
   "execution_count": 6,
   "id": "spoken-start",
   "metadata": {
    "execution": {
     "iopub.execute_input": "2021-05-07T14:02:03.546327Z",
     "iopub.status.busy": "2021-05-07T14:02:03.545586Z",
     "iopub.status.idle": "2021-05-07T14:02:04.225688Z",
     "shell.execute_reply": "2021-05-07T14:02:04.226190Z"
    },
    "papermill": {
     "duration": 0.706162,
     "end_time": "2021-05-07T14:02:04.226405",
     "exception": false,
     "start_time": "2021-05-07T14:02:03.520243",
     "status": "completed"
    },
    "tags": []
   },
   "outputs": [
    {
     "name": "stdout",
     "output_type": "stream",
     "text": [
      "No. 423 No 16\n"
     ]
    },
    {
     "data": {
      "image/png": "[encoded data removed]",
      "text/plain": [
       "<Figure size 720x720 with 2 Axes>"
      ]
     },
     "metadata": {
      "needs_background": "light"
     },
     "output_type": "display_data"
    }
   ],
   "source": [
    "a = random.randint(0, 1000)\n",
    "b = random.randint(0, 100)\n",
    "print('No.',a, 'No', b)\n",
    "\n",
    "plt.figure( figsize = (10,10))\n",
    "sns.heatmap(spin[a,b], cmap = 'gray', annot = True)\n",
    "plt.show()"
   ]
  },
  {
   "cell_type": "code",
   "execution_count": 7,
   "id": "least-tractor",
   "metadata": {
    "execution": {
     "iopub.execute_input": "2021-05-07T14:02:04.267001Z",
     "iopub.status.busy": "2021-05-07T14:02:04.266329Z",
     "iopub.status.idle": "2021-05-07T14:02:04.520298Z",
     "shell.execute_reply": "2021-05-07T14:02:04.521126Z"
    },
    "papermill": {
     "duration": 0.275292,
     "end_time": "2021-05-07T14:02:04.521420",
     "exception": false,
     "start_time": "2021-05-07T14:02:04.246128",
     "status": "completed"
    },
    "tags": []
   },
   "outputs": [
    {
     "name": "stdout",
     "output_type": "stream",
     "text": [
      "No. 426 No 10\n"
     ]
    },
    {
     "data": {
      "text/plain": [
       "<Figure size 720x720 with 0 Axes>"
      ]
     },
     "metadata": {},
     "output_type": "display_data"
    },
    {
     "data": {
      "image/png": "[encoded data removed]",
      "text/plain": [
       "<Figure size 288x288 with 1 Axes>"
      ]
     },
     "metadata": {
      "needs_background": "light"
     },
     "output_type": "display_data"
    }
   ],
   "source": [
    "a = random.randint(0, 1000)\n",
    "b = random.randint(0, 100)\n",
    "print('No.',a, 'No', b)\n",
    "\n",
    "fig = plt.figure( figsize = (10,10))\n",
    "plt.matshow(spin[a,b], cmap = 'gray')\n",
    "plt.show()"
   ]
  },
  {
   "cell_type": "code",
   "execution_count": 8,
   "id": "finnish-tolerance",
   "metadata": {
    "execution": {
     "iopub.execute_input": "2021-05-07T14:02:04.589791Z",
     "iopub.status.busy": "2021-05-07T14:02:04.589048Z",
     "iopub.status.idle": "2021-05-07T14:02:04.590961Z",
     "shell.execute_reply": "2021-05-07T14:02:04.591410Z"
    },
    "papermill": {
     "duration": 0.03669,
     "end_time": "2021-05-07T14:02:04.591603",
     "exception": false,
     "start_time": "2021-05-07T14:02:04.554913",
     "status": "completed"
    },
    "tags": []
   },
   "outputs": [],
   "source": [
    "temperature = data[\"Temperature\"]"
   ]
  },
  {
   "cell_type": "code",
   "execution_count": 9,
   "id": "useful-muscle",
   "metadata": {
    "execution": {
     "iopub.execute_input": "2021-05-07T14:02:04.634054Z",
     "iopub.status.busy": "2021-05-07T14:02:04.633394Z",
     "iopub.status.idle": "2021-05-07T14:02:04.638001Z",
     "shell.execute_reply": "2021-05-07T14:02:04.638499Z"
    },
    "papermill": {
     "duration": 0.027746,
     "end_time": "2021-05-07T14:02:04.638685",
     "exception": false,
     "start_time": "2021-05-07T14:02:04.610939",
     "status": "completed"
    },
    "tags": []
   },
   "outputs": [],
   "source": [
    "ydata = data['y_data']\n",
    "type(ydata)\n",
    "ydata.shape\n",
    "np.save('ydata', ydata)"
   ]
  },
  {
   "cell_type": "code",
   "execution_count": 10,
   "id": "personal-suite",
   "metadata": {
    "execution": {
     "iopub.execute_input": "2021-05-07T14:02:04.698791Z",
     "iopub.status.busy": "2021-05-07T14:02:04.698101Z",
     "iopub.status.idle": "2021-05-07T14:02:04.818868Z",
     "shell.execute_reply": "2021-05-07T14:02:04.819385Z"
    },
    "papermill": {
     "duration": 0.161258,
     "end_time": "2021-05-07T14:02:04.819592",
     "exception": false,
     "start_time": "2021-05-07T14:02:04.658334",
     "status": "completed"
    },
    "tags": []
   },
   "outputs": [
    {
     "data": {
      "image/png": "[encoded data removed]",
      "text/plain": [
       "<Figure size 432x288 with 1 Axes>"
      ]
     },
     "metadata": {
      "needs_background": "light"
     },
     "output_type": "display_data"
    }
   ],
   "source": [
    "phase = ydata.T[0]\n",
    "#print(phase)\n",
    "plt.figure()\n",
    "plt.title('Phase')\n",
    "plt.plot(phase)\n",
    "plt.show()\n"
   ]
  },
  {
   "cell_type": "code",
   "execution_count": 11,
   "id": "developmental-artist",
   "metadata": {
    "execution": {
     "iopub.execute_input": "2021-05-07T14:02:04.880986Z",
     "iopub.status.busy": "2021-05-07T14:02:04.870762Z",
     "iopub.status.idle": "2021-05-07T14:02:05.033016Z",
     "shell.execute_reply": "2021-05-07T14:02:05.033866Z"
    },
    "papermill": {
     "duration": 0.194321,
     "end_time": "2021-05-07T14:02:05.034150",
     "exception": false,
     "start_time": "2021-05-07T14:02:04.839829",
     "status": "completed"
    },
    "tags": []
   },
   "outputs": [
    {
     "data": {
      "image/png": "[encoded data removed]",
      "text/plain": [
       "<Figure size 432x288 with 1 Axes>"
      ]
     },
     "metadata": {
      "needs_background": "light"
     },
     "output_type": "display_data"
    }
   ],
   "source": [
    "phase = ydata.T[0]\n",
    "#print(phase)\n",
    "plt.figure()\n",
    "plt.title('Phase')\n",
    "plt.plot(temperature)\n",
    "plt.show()"
   ]
  },
  {
   "cell_type": "markdown",
   "id": "overhead-billy",
   "metadata": {
    "papermill": {
     "duration": 0.027523,
     "end_time": "2021-05-07T14:02:05.088710",
     "exception": false,
     "start_time": "2021-05-07T14:02:05.061187",
     "status": "completed"
    },
    "tags": []
   },
   "source": [
    "# Caluculate the average value of each configuration. \n",
    "We have 100 configurations at a given temperature. And the scale of temperature is from 0 to 5."
   ]
  },
  {
   "cell_type": "code",
   "execution_count": 12,
   "id": "fuzzy-therapy",
   "metadata": {
    "execution": {
     "iopub.execute_input": "2021-05-07T14:02:05.139545Z",
     "iopub.status.busy": "2021-05-07T14:02:05.138481Z",
     "iopub.status.idle": "2021-05-07T14:02:06.605825Z",
     "shell.execute_reply": "2021-05-07T14:02:06.605236Z"
    },
    "papermill": {
     "duration": 1.495267,
     "end_time": "2021-05-07T14:02:06.605999",
     "exception": false,
     "start_time": "2021-05-07T14:02:05.110732",
     "status": "completed"
    },
    "tags": []
   },
   "outputs": [],
   "source": [
    "mag = np.zeros(shape = (1001, 100))\n",
    "\n",
    "# 計算每一張圖的平均\n",
    "for i in range(1001):\n",
    "    for j in range(100):\n",
    "        mag[i][j] = np.average(spin[i][j]) \n",
    "\n",
    "# 計算每一個溫度點的平均\n",
    "mag_1 = np.zeros(1001)\n",
    "for i in range(1001):\n",
    "    mag_1[i] = np.average(mag[i])\n",
    "    \n",
    "# 取絕對值\n",
    "mag_2 = np.abs(mag_1)"
   ]
  },
  {
   "cell_type": "code",
   "execution_count": 13,
   "id": "satellite-shooting",
   "metadata": {
    "execution": {
     "iopub.execute_input": "2021-05-07T14:02:06.655805Z",
     "iopub.status.busy": "2021-05-07T14:02:06.654702Z",
     "iopub.status.idle": "2021-05-07T14:02:06.658171Z",
     "shell.execute_reply": "2021-05-07T14:02:06.657571Z"
    },
    "papermill": {
     "duration": 0.030725,
     "end_time": "2021-05-07T14:02:06.658335",
     "exception": false,
     "start_time": "2021-05-07T14:02:06.627610",
     "status": "completed"
    },
    "tags": []
   },
   "outputs": [],
   "source": [
    "mt = np.concatenate([[temperature.T], [mag_2.T]]).T"
   ]
  },
  {
   "cell_type": "code",
   "execution_count": 14,
   "id": "center-october",
   "metadata": {
    "execution": {
     "iopub.execute_input": "2021-05-07T14:02:06.708961Z",
     "iopub.status.busy": "2021-05-07T14:02:06.708222Z",
     "iopub.status.idle": "2021-05-07T14:02:06.711106Z",
     "shell.execute_reply": "2021-05-07T14:02:06.711631Z"
    },
    "papermill": {
     "duration": 0.03098,
     "end_time": "2021-05-07T14:02:06.711831",
     "exception": false,
     "start_time": "2021-05-07T14:02:06.680851",
     "status": "completed"
    },
    "tags": []
   },
   "outputs": [
    {
     "data": {
      "text/plain": [
       "(1001, 2)"
      ]
     },
     "execution_count": 14,
     "metadata": {},
     "output_type": "execute_result"
    }
   ],
   "source": [
    "mt.shape"
   ]
  },
  {
   "cell_type": "markdown",
   "id": "confident-amino",
   "metadata": {
    "papermill": {
     "duration": 0.022183,
     "end_time": "2021-05-07T14:02:06.757106",
     "exception": false,
     "start_time": "2021-05-07T14:02:06.734923",
     "status": "completed"
    },
    "tags": []
   },
   "source": [
    "# Figure and Behaviour\n",
    "From the figure below, we can obviuosly find there are two stable zones. One is near to 0K, and another is about 5K. In the middle range, the figure seems exsiting dramastic change. It is where the phase transition happen."
   ]
  },
  {
   "cell_type": "code",
   "execution_count": 15,
   "id": "tracked-checkout",
   "metadata": {
    "execution": {
     "iopub.execute_input": "2021-05-07T14:02:06.806024Z",
     "iopub.status.busy": "2021-05-07T14:02:06.805224Z",
     "iopub.status.idle": "2021-05-07T14:02:07.014206Z",
     "shell.execute_reply": "2021-05-07T14:02:07.013614Z"
    },
    "papermill": {
     "duration": 0.234609,
     "end_time": "2021-05-07T14:02:07.014361",
     "exception": false,
     "start_time": "2021-05-07T14:02:06.779752",
     "status": "completed"
    },
    "tags": []
   },
   "outputs": [
    {
     "data": {
      "image/png": "[encoded data removed]",
      "text/plain": [
       "<Figure size 1440x720 with 1 Axes>"
      ]
     },
     "metadata": {
      "needs_background": "light"
     },
     "output_type": "display_data"
    }
   ],
   "source": [
    "plt.figure(figsize = (20, 10))\n",
    "plt.plot(temperature, mag_2, c = 'green')\n",
    "plt.xlabel('Temperature', fontsize = 20)\n",
    "plt.ylabel('Magnetization', fontsize = 20)\n",
    "plt.show()"
   ]
  },
  {
   "cell_type": "code",
   "execution_count": null,
   "id": "amazing-ranch",
   "metadata": {
    "papermill": {
     "duration": 0.025033,
     "end_time": "2021-05-07T14:02:07.064536",
     "exception": false,
     "start_time": "2021-05-07T14:02:07.039503",
     "status": "completed"
    },
    "tags": []
   },
   "outputs": [],
   "source": []
  },
  {
   "cell_type": "markdown",
   "id": "affecting-herald",
   "metadata": {
    "papermill": {
     "duration": 0.024374,
     "end_time": "2021-05-07T14:02:07.113577",
     "exception": false,
     "start_time": "2021-05-07T14:02:07.089203",
     "status": "completed"
    },
    "tags": []
   },
   "source": []
  }
 ],
 "metadata": {
  "kernelspec": {
   "display_name": "Python 3",
   "language": "python",
   "name": "python3"
  },
  "language_info": {
   "codemirror_mode": {
    "name": "ipython",
    "version": 3
   },
   "file_extension": ".py",
   "mimetype": "text/x-python",
   "name": "python",
   "nbconvert_exporter": "python",
   "pygments_lexer": "ipython3",
   "version": "3.7.10"
  },
  "papermill": {
   "default_parameters": {},
   "duration": 17.029284,
   "end_time": "2021-05-07T14:02:08.735576",
   "environment_variables": {},
   "exception": null,
   "input_path": "__notebook__.ipynb",
   "output_path": "__notebook__.ipynb",
   "parameters": {},
   "start_time": "2021-05-07T14:01:51.706292",
   "version": "2.3.3"
  }
 },
 "nbformat": 4,
 "nbformat_minor": 5
}
