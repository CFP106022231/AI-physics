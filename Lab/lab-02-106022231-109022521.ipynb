{
 "cells": [
  {
   "cell_type": "markdown",
   "metadata": {
    "papermill": {
     "duration": 0.008443,
     "end_time": "2021-03-03T15:34:48.644701",
     "exception": false,
     "start_time": "2021-03-03T15:34:48.636258",
     "status": "completed"
    },
    "tags": []
   },
   "source": [
    "# Week 2 lab section\n",
    "---\n",
    "## Goal \n",
    "In lab 02, you will practice:\n",
    "    1. How to load the dataset from npz file.\n",
    "    2. How to manipulate dataset using numpy, pandas, e.t.c\n",
    "    3. How to visualize your data.\n",
    "    \n",
    "## Important concept\n",
    "### Monte Carlo simulation\n",
    "Monte Carlo simulation is an essential component of experimental particle physics in all the phases of its life-cycle: the investigation of the physics reach of detector concepts, the design of facilities and detectors, the development and optimization of data reconstruction software, the data analysis for the production of physics results. This note briefly outlines some research topics related to Monte Carlo simulation, that are relevant to future experimental perspectives in particle physics. The focus is on physics aspects: conceptual progress beyond current particle transport schemes, the incorporation of materials science knowledge relevant to novel detection technologies, functionality to model radiation damage, the capability for multi-scale simulation, quantitative validation, and uncertainty quantification to determine the predictive power of simulation. The R&D; on simulation for future detectors would profit from cooperation within various components of the particle physics community, and synergy with other experimental domain sharing similar simulation requirements.\n",
    "\n",
    "Reference: https://cds.cern.ch/record/1471335\n",
    "### Event selection\n",
    "Event selection is a method to filter out the event that is not demanded.\n",
    "The concept of selection base on the physics process you set.\n",
    "For example, for a fully hadronic process p p > t $\\bar{t}$ event, there should exist 6 jets which transverse momentum larger than 25 GeV and |$\\eta$| smaller than 2.5 due to top quark will decay to b quark and W boson, then W boson will contribute 2 jets and b quark will contribute 1 jet.\n",
    "### Jet reconstruction and Jet image\n",
    "#### Jet reconstruction \n",
    "A jet can be defined as a collimated spray of stable particles arising from the fragmentation\n",
    "and hadronization of a parton(quark or gluon) after a collision. Jet reconstruction algorithms\n",
    "are used to combine the calorimetry and tracking information to define jets. The jets provide a\n",
    "link between the observed colourless stable particles and the underlying physics at the partonic\n",
    "level. \n",
    "\n",
    "Reference: https://iopscience.iop.org/article/10.1088/1742-6596/645/1/012008/pdf\n",
    "#### Jet image\n",
    "Jet image is a modern technology that convert the data in detector into image-base data.\n",
    "The method is inspired by the preprocessing of data in image-base machine learning.\n"
   ]
  },
  {
   "cell_type": "code",
   "execution_count": 1,
   "metadata": {
    "_cell_guid": "b1076dfc-b9ad-4769-8c92-a6c4dae69d19",
    "_uuid": "8f2839f25d086af736a60e9eeb907d3b93b6e0e5",
    "execution": {
     "iopub.execute_input": "2021-03-03T15:34:48.661955Z",
     "iopub.status.busy": "2021-03-03T15:34:48.661358Z",
     "iopub.status.idle": "2021-03-03T15:34:48.678970Z",
     "shell.execute_reply": "2021-03-03T15:34:48.678379Z"
    },
    "papermill": {
     "duration": 0.027322,
     "end_time": "2021-03-03T15:34:48.679149",
     "exception": false,
     "start_time": "2021-03-03T15:34:48.651827",
     "status": "completed"
    },
    "tags": []
   },
   "outputs": [
    {
     "name": "stdout",
     "output_type": "stream",
     "text": [
      "/kaggle/input/phys591000-week02/train.npz\n",
      "/kaggle/input/phys591000-week02/train.h5\n",
      "/kaggle/input/phys591000-week02/X_Val.csv\n",
      "/kaggle/input/phys591000-week02/npz/val.npz\n",
      "/kaggle/input/phys591000-week02/npz/train.npz\n",
      "/kaggle/input/phys591000-week02/npz/test.npz\n",
      "/kaggle/input/phys591000-week02/hdf5/test.h5\n",
      "/kaggle/input/phys591000-week02/hdf5/train.h5\n",
      "/kaggle/input/phys591000-week02/hdf5/val.h5\n"
     ]
    }
   ],
   "source": [
    "# This Python 3 environment comes with many helpful analytics libraries installed\n",
    "# It is defined by the kaggle/python Docker image: https://github.com/kaggle/docker-python\n",
    "# For example, here's several helpful packages to load\n",
    "\n",
    "import numpy as np # linear algebra\n",
    "import pandas as pd # data processing, CSV file I/O (e.g. pd.read_csv)\n",
    "import matplotlib.pyplot as plt # Data visualization tool\n",
    "\n",
    "# Input data files are available in the read-only \"../input/\" directory\n",
    "# For example, running this (by clicking run or pressing Shift+Enter) will list all files under the input directory\n",
    "\n",
    "import os\n",
    "for dirname, _, filenames in os.walk('/kaggle/input'):\n",
    "    for filename in filenames:\n",
    "        print(os.path.join(dirname, filename))\n",
    "\n",
    "# You can write up to 20GB to the current directory (/kaggle/working/) that gets preserved as output when you create a version using \"Save & Run All\" \n",
    "# You can also write temporary files to /kaggle/temp/, but they won't be saved outside of the current session"
   ]
  },
  {
   "cell_type": "markdown",
   "metadata": {
    "papermill": {
     "duration": 0.006948,
     "end_time": "2021-03-03T15:34:48.693980",
     "exception": false,
     "start_time": "2021-03-03T15:34:48.687032",
     "status": "completed"
    },
    "tags": []
   },
   "source": [
    "### Practice 1\n",
    "---\n",
    "1.1  \n",
    "Load the npz file `/kaggele/input/phys5910000-week02/npz/train.npz` and store the `jet_pt`, `jet_eta`, `jet_phi` and `jet_mass` array in the dataset to variables.  \n",
    "\n",
    "1.2  \n",
    "Filter out the jet with transverse momentum smaller than 600 GeV and |$\\eta$| larger than 1.  \n",
    "Store the filter result to a new array.\n",
    "\n",
    "1.3  \n",
    "Base on the previous selection, store the survived jet's data to npz file and hdf5 file.  \n",
    "(Please show that your output file is exist.)"
   ]
  },
  {
   "cell_type": "code",
   "execution_count": 2,
   "metadata": {
    "execution": {
     "iopub.execute_input": "2021-03-03T15:34:48.714386Z",
     "iopub.status.busy": "2021-03-03T15:34:48.713797Z",
     "iopub.status.idle": "2021-03-03T15:34:48.794651Z",
     "shell.execute_reply": "2021-03-03T15:34:48.795125Z"
    },
    "papermill": {
     "duration": 0.093912,
     "end_time": "2021-03-03T15:34:48.795284",
     "exception": false,
     "start_time": "2021-03-03T15:34:48.701372",
     "status": "completed"
    },
    "tags": []
   },
   "outputs": [],
   "source": [
    "##############################################################################\n",
    "#Code for 1.1\n",
    "file = np.load('/kaggle/input/phys591000-week02/npz/train.npz', allow_pickle=True)\n",
    "\n",
    "jet_pt = file['jet_pt']\n",
    "jet_eta = file['jet_eta']\n",
    "jet_phi = file['jet_phi']\n",
    "jet_mass = file['jet_mass']\n",
    "\n",
    "##############################################################################"
   ]
  },
  {
   "cell_type": "code",
   "execution_count": 3,
   "metadata": {
    "execution": {
     "iopub.execute_input": "2021-03-03T15:34:48.816469Z",
     "iopub.status.busy": "2021-03-03T15:34:48.815914Z",
     "iopub.status.idle": "2021-03-03T15:34:48.847216Z",
     "shell.execute_reply": "2021-03-03T15:34:48.846441Z"
    },
    "papermill": {
     "duration": 0.044129,
     "end_time": "2021-03-03T15:34:48.847349",
     "exception": false,
     "start_time": "2021-03-03T15:34:48.803220",
     "status": "completed"
    },
    "tags": []
   },
   "outputs": [],
   "source": [
    "##############################################################################\n",
    "#Code for 1.2\n",
    "\n",
    "table = {'jet_pt': file['jet_pt'],\n",
    "        'jet_eta': file['jet_eta'],\n",
    "        'jet_phi': file['jet_phi'],\n",
    "        'jet_mass': file['jet_mass'],\n",
    "        }\n",
    "\n",
    "df = pd.DataFrame(table)\n",
    "\n",
    "cond1 = df['jet_pt'] >= 600\n",
    "cond2 = df['jet_eta'].abs() <= 1\n",
    "\n",
    "cond = cond1 & cond2\n",
    "df_filter = pd.DataFrame(df[cond])\n",
    "\n",
    "array = np.array(df_filter)\n",
    "##############################################################################"
   ]
  },
  {
   "cell_type": "code",
   "execution_count": 4,
   "metadata": {
    "execution": {
     "iopub.execute_input": "2021-03-03T15:34:48.869102Z",
     "iopub.status.busy": "2021-03-03T15:34:48.868419Z",
     "iopub.status.idle": "2021-03-03T15:34:49.007016Z",
     "shell.execute_reply": "2021-03-03T15:34:49.007758Z"
    },
    "papermill": {
     "duration": 0.15269,
     "end_time": "2021-03-03T15:34:49.007913",
     "exception": false,
     "start_time": "2021-03-03T15:34:48.855223",
     "status": "completed"
    },
    "tags": []
   },
   "outputs": [
    {
     "name": "stdout",
     "output_type": "stream",
     "text": [
      "npz file exists\n",
      "h5 file exists\n"
     ]
    }
   ],
   "source": [
    "##############################################################################\n",
    "#Code for 1.3\n",
    "np.savez('filtered_event_npz', filter_jet_pt = df_filter['jet_pt'], \n",
    "         filter_jet_eta = df_filter['jet_eta'], \n",
    "         filter_jet_phi = df_filter['jet_phi'], \n",
    "         filter_jet_mass = df_filter['jet_mass'], \n",
    "        )\n",
    "\n",
    "df.to_hdf('filtered_event_h5.hdf5', key='df', mode='w')\n",
    "\n",
    "if os.path.exists(\"./filtered_event_npz.npz\"):\n",
    "    print(\"npz file exists\")\n",
    "if os.path.exists(\"./filtered_event_h5.hdf5\"):\n",
    "    print(\"h5 file exists\")\n",
    "##############################################################################"
   ]
  },
  {
   "cell_type": "markdown",
   "metadata": {
    "papermill": {
     "duration": 0.008371,
     "end_time": "2021-03-03T15:34:49.024595",
     "exception": false,
     "start_time": "2021-03-03T15:34:49.016224",
     "status": "completed"
    },
    "tags": []
   },
   "source": [
    "### Practice 2 \n",
    "---\n",
    "2.1  \n",
    "Load the data you save in practice 1.3.  \n",
    "Plot the histogram of leading jet's `pt`, `eta`, `phi`, and `mass`.  \n",
    "\n",
    "Hint: Leading jet is the first jet in each event.  \n",
    "\n",
    "2.2  \n",
    "Construct a data frame using jet's `pt`, `eta`, `phi`, and `mass`.  \n",
    "Compute jet's `px`, `py`, `pz`, and `energy` using the information you have.  \n"
   ]
  },
  {
   "cell_type": "code",
   "execution_count": 5,
   "metadata": {
    "execution": {
     "iopub.execute_input": "2021-03-03T15:34:49.049404Z",
     "iopub.status.busy": "2021-03-03T15:34:49.048779Z",
     "iopub.status.idle": "2021-03-03T15:34:50.124619Z",
     "shell.execute_reply": "2021-03-03T15:34:50.123986Z"
    },
    "papermill": {
     "duration": 1.091934,
     "end_time": "2021-03-03T15:34:50.124766",
     "exception": false,
     "start_time": "2021-03-03T15:34:49.032832",
     "status": "completed"
    },
    "tags": []
   },
   "outputs": [
    {
     "data": {
      "text/plain": [
       "Text(0.5, 1.0, 'histogram of jet_mass')"
      ]
     },
     "execution_count": 5,
     "metadata": {},
     "output_type": "execute_result"
    },
    {
     "data": {
      "image/png": "[encoded data removed]",
      "text/plain": [
       "<Figure size 720x720 with 4 Axes>"
      ]
     },
     "metadata": {
      "needs_background": "light"
     },
     "output_type": "display_data"
    }
   ],
   "source": [
    "##############################################################################\n",
    "#Code for 2.1\n",
    "file = np.load('./filtered_event_npz.npz', allow_pickle = True)\n",
    "\n",
    "\n",
    "plt.figure(figsize = (10,10))\n",
    "\n",
    "plt.subplot(2,2,1)\n",
    "plt.xlabel('value')\n",
    "plt.ylabel('# of hits.')\n",
    "plt.hist(file['filter_jet_pt'],bins =100)\n",
    "plt.title('histogram of jet_pt')\n",
    "\n",
    "plt.subplot(2,2,2)\n",
    "plt.xlabel('value')\n",
    "plt.ylabel('# of hits.')\n",
    "plt.hist(file['filter_jet_eta'],bins =100)\n",
    "plt.title('histogram of jet_eta')\n",
    "\n",
    "plt.subplot(2,2,3)\n",
    "plt.xlabel('value')\n",
    "plt.ylabel('# of hits.')\n",
    "plt.hist(file['filter_jet_phi'],bins =100)\n",
    "plt.title('histogram of jet_phi')\n",
    "\n",
    "plt.subplot(2,2,4)\n",
    "plt.xlabel('value')\n",
    "plt.ylabel('# of hits.')\n",
    "plt.hist(file['filter_jet_mass'],bins =100)\n",
    "plt.title('histogram of jet_mass')\n",
    "\n",
    "\n",
    "##############################################################################\n"
   ]
  },
  {
   "cell_type": "code",
   "execution_count": 6,
   "metadata": {
    "execution": {
     "iopub.execute_input": "2021-03-03T15:34:50.151876Z",
     "iopub.status.busy": "2021-03-03T15:34:50.151279Z",
     "iopub.status.idle": "2021-03-03T15:34:50.172667Z",
     "shell.execute_reply": "2021-03-03T15:34:50.173053Z"
    },
    "papermill": {
     "duration": 0.038729,
     "end_time": "2021-03-03T15:34:50.173217",
     "exception": false,
     "start_time": "2021-03-03T15:34:50.134488",
     "status": "completed"
    },
    "tags": []
   },
   "outputs": [
    {
     "name": "stdout",
     "output_type": "stream",
     "text": [
      "              pt       eta       phi        mass\n",
      "0     633.461426 -0.389853  1.151873   64.982689\n",
      "1     615.155518  0.421569  1.676882   81.731079\n",
      "2     611.133118 -0.848805  2.226109   44.691303\n",
      "3     618.980591 -0.218974 -2.690054   42.956009\n",
      "4     602.724548  0.137458  2.252326   32.767647\n",
      "...          ...       ...       ...         ...\n",
      "1484  609.959656 -0.228665  1.211093  153.263565\n",
      "1485  637.561035 -0.923152  1.994032  162.337616\n",
      "1486  601.696533  0.343090 -0.297907  178.658279\n",
      "1487  600.219116  0.601447 -2.493719  113.182236\n",
      "1488  625.961365  0.024924 -1.035418   92.018677\n",
      "\n",
      "[1489 rows x 4 columns]\n",
      "====px====\n",
      "0       257.677765\n",
      "1       -65.136795\n",
      "2      -372.428925\n",
      "3      -556.944397\n",
      "4      -379.705353\n",
      "           ...    \n",
      "1484    214.703949\n",
      "1485   -261.854584\n",
      "1486    575.193665\n",
      "1487   -478.596130\n",
      "1488    319.344727\n",
      "Length: 1489, dtype: float32\n",
      "====py====\n",
      "0       578.684326\n",
      "1       611.697266\n",
      "2       484.541412\n",
      "3      -270.092407\n",
      "4       468.081970\n",
      "           ...    \n",
      "1484    570.922913\n",
      "1485    581.305664\n",
      "1486   -176.609711\n",
      "1487   -362.227448\n",
      "1488   -538.374023\n",
      "Length: 1489, dtype: float32\n",
      "====pz====\n",
      "0      -253.260330\n",
      "1       267.080170\n",
      "2      -583.303894\n",
      "3      -136.626755\n",
      "4        83.110367\n",
      "           ...    \n",
      "1484   -140.695129\n",
      "1485   -675.798157\n",
      "1486    210.509735\n",
      "1487    383.161896\n",
      "1488     15.603126\n",
      "Length: 1489, dtype: float32\n",
      "====energy====\n",
      "0       685.300598\n",
      "1       675.594666\n",
      "2       846.005005\n",
      "3       635.333801\n",
      "4       609.309387\n",
      "           ...    \n",
      "1484    644.465332\n",
      "1485    943.154663\n",
      "1486    662.021057\n",
      "1487    721.031372\n",
      "1488    632.881165\n",
      "Length: 1489, dtype: float32\n"
     ]
    }
   ],
   "source": [
    "##############################################################################\n",
    "#Code for 2.2\n",
    "\n",
    "table = {\n",
    "    'pt': file['filter_jet_pt'],\n",
    "    'eta': file['filter_jet_eta'],\n",
    "    'phi': file['filter_jet_phi'],\n",
    "    'mass': file['filter_jet_mass'],\n",
    "}\n",
    "\n",
    "df = pd.DataFrame(table)\n",
    "\n",
    "print(df)\n",
    "\n",
    "px = df['pt'] * np.cos(df['phi'])\n",
    "py = df['pt'] * np.sin(df['phi'])\n",
    "pz = df['pt'] * np.sinh(df['eta'])\n",
    "\n",
    "print('====px====')\n",
    "print(px)\n",
    "print('====py====')\n",
    "print(py)\n",
    "print('====pz====')\n",
    "print(pz)\n",
    "\n",
    "energy = ((px**2 + py**2 + pz**2) + df['mass']**2 )**0.5\n",
    "print('====energy====')\n",
    "print(energy)\n",
    "##############################################################################\n"
   ]
  },
  {
   "cell_type": "markdown",
   "metadata": {
    "papermill": {
     "duration": 0.009305,
     "end_time": "2021-03-03T15:34:50.192485",
     "exception": false,
     "start_time": "2021-03-03T15:34:50.183180",
     "status": "completed"
    },
    "tags": []
   },
   "source": [
    "### Bonus\n",
    "---\n",
    "X.1  \n",
    "Load the data from `/kaggele/input/phys5910000-week02/npz/train.npz`, using the `image_pt` to plot the jet image.  \n",
    "\n",
    "X.2   \n",
    "Describe the things you find after plot the images.  \n",
    "\n"
   ]
  },
  {
   "cell_type": "code",
   "execution_count": 7,
   "metadata": {
    "execution": {
     "iopub.execute_input": "2021-03-03T15:34:50.221380Z",
     "iopub.status.busy": "2021-03-03T15:34:50.220793Z",
     "iopub.status.idle": "2021-03-03T15:34:56.718330Z",
     "shell.execute_reply": "2021-03-03T15:34:56.717701Z"
    },
    "papermill": {
     "duration": 6.515944,
     "end_time": "2021-03-03T15:34:56.718461",
     "exception": false,
     "start_time": "2021-03-03T15:34:50.202517",
     "status": "completed"
    },
    "tags": []
   },
   "outputs": [
    {
     "data": {
      "text/plain": [
       "<matplotlib.colorbar.Colorbar at 0x7fbb5860cbd0>"
      ]
     },
     "execution_count": 7,
     "metadata": {},
     "output_type": "execute_result"
    },
    {
     "data": {
      "image/png": "[encoded data removed]",
      "text/plain": [
       "<Figure size 1152x576 with 4 Axes>"
      ]
     },
     "metadata": {
      "needs_background": "light"
     },
     "output_type": "display_data"
    }
   ],
   "source": [
    "##############################################################################\n",
    "#Code for X.1\n",
    "file = np.load('/kaggle/input/phys591000-week02/train.npz', allow_pickle = True)\n",
    "\n",
    "labels = np.unique(file['label'], axis = 0)\n",
    "\n",
    "label = file['label']\n",
    "img_pt = file['img_pt']\n",
    "\n",
    "img0 = np.zeros(img_pt[0].shape)\n",
    "img1 = np.zeros(img_pt[0].shape)\n",
    "\n",
    "for i,elem in enumerate(label):\n",
    "    if np.array_equal(elem,labels[0]):\n",
    "        img0 += img_pt[i]\n",
    "    elif np.array_equal(elem,labels[1]):\n",
    "        img1 += img_pt[i]\n",
    "    else:\n",
    "        print('!')\n",
    "\n",
    "\n",
    "plt.figure(figsize = (16,8))\n",
    "plt.subplot(1,2,1)\n",
    "plt.xlabel('x')\n",
    "plt.ylabel('y')\n",
    "plt.title('class1')\n",
    "plt.imshow(img0,cmap = 'Blues')\n",
    "plt.colorbar()\n",
    "plt.subplot(1,2,2)\n",
    "plt.xlabel('x')\n",
    "plt.ylabel('y')\n",
    "plt.title('class2')\n",
    "plt.imshow(img1,cmap = 'Blues')\n",
    "plt.colorbar()\n",
    "\n",
    "##############################################################################\n"
   ]
  },
  {
   "cell_type": "markdown",
   "metadata": {
    "papermill": {
     "duration": 0.012137,
     "end_time": "2021-03-03T15:34:56.743341",
     "exception": false,
     "start_time": "2021-03-03T15:34:56.731204",
     "status": "completed"
    },
    "tags": []
   },
   "source": [
    "##############################################################################  \n",
    "X.2 Describe your finding\n",
    "\n",
    "兩個class 的 transverse momentum 中心很相像，都坐落在 x= (100,125) and y = (100,125) 間，但 class2 momentum 在 空間上的分佈比 class1 要廣，class1 在空間中的分佈相當集中，每個momentum 的值約是 10^(-1)，而class1 在全部event 加起來後 中心位置可達 10^2，可說明其集中性，而class2 則是 10^1。由於未知這個dataset 的其他條件，但如果這是散射，空間的分佈、偏轉往往說明被碰撞物體的物理特性（就如 alpha 粒子的實驗一樣），在上述的圖中，我猜 class1 的粒子更電荷分佈或是體積更集中，而class2 則相反。\n",
    "\n",
    "\n",
    "##############################################################################\n"
   ]
  },
  {
   "cell_type": "code",
   "execution_count": null,
   "metadata": {
    "papermill": {
     "duration": 0.012293,
     "end_time": "2021-03-03T15:34:56.768011",
     "exception": false,
     "start_time": "2021-03-03T15:34:56.755718",
     "status": "completed"
    },
    "tags": []
   },
   "outputs": [],
   "source": []
  }
 ],
 "metadata": {
  "kernelspec": {
   "display_name": "Python 3",
   "language": "python",
   "name": "python3"
  },
  "language_info": {
   "codemirror_mode": {
    "name": "ipython",
    "version": 3
   },
   "file_extension": ".py",
   "mimetype": "text/x-python",
   "name": "python",
   "nbconvert_exporter": "python",
   "pygments_lexer": "ipython3",
   "version": "3.7.9"
  },
  "papermill": {
   "default_parameters": {},
   "duration": 13.582192,
   "end_time": "2021-03-03T15:34:57.389985",
   "environment_variables": {},
   "exception": null,
   "input_path": "__notebook__.ipynb",
   "output_path": "__notebook__.ipynb",
   "parameters": {},
   "start_time": "2021-03-03T15:34:43.807793",
   "version": "2.2.2"
  }
 },
 "nbformat": 4,
 "nbformat_minor": 4
}
