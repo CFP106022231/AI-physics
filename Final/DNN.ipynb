{
 "cells": [
  {
   "cell_type": "code",
   "execution_count": 1,
   "id": "prerequisite-connectivity",
   "metadata": {
    "_cell_guid": "b1076dfc-b9ad-4769-8c92-a6c4dae69d19",
    "_uuid": "8f2839f25d086af736a60e9eeb907d3b93b6e0e5",
    "execution": {
     "iopub.execute_input": "2021-06-15T16:41:22.724147Z",
     "iopub.status.busy": "2021-06-15T16:41:22.723583Z",
     "iopub.status.idle": "2021-06-15T16:41:23.414609Z",
     "shell.execute_reply": "2021-06-15T16:41:23.413954Z",
     "shell.execute_reply.started": "2021-06-15T15:54:52.828001Z"
    },
    "papermill": {
     "duration": 0.717606,
     "end_time": "2021-06-15T16:41:23.414815",
     "exception": false,
     "start_time": "2021-06-15T16:41:22.697209",
     "status": "completed"
    },
    "tags": []
   },
   "outputs": [],
   "source": [
    "# This Python 3 environment comes with many helpful analytics libraries installed\n",
    "# It is defined by the kaggle/python Docker image: https://github.com/kaggle/docker-python\n",
    "# For example, here's several helpful packages to load\n",
    "\n",
    "import numpy as np # linear algebra\n",
    "import pandas as pd # data processing, CSV file I/O (e.g. pd.read_csv)\n",
    "import matplotlib.pyplot as plt\n",
    "import os\n",
    "\n",
    "import seaborn as sns\n",
    "# for dirname, _, filenames in os.walk('/kaggle/input'):\n",
    "#     for filename in filenames:\n",
    "#         print(os.path.join(dirname, filename))\n",
    "\n",
    "# You can write up to 20GB to the current directory (/kaggle/working/) that gets preserved as output when you create a version using \"Save & Run All\" \n",
    "# You can also write temporary files to /kaggle/temp/, but they won't be saved outside of the current session"
   ]
  },
  {
   "cell_type": "code",
   "execution_count": 2,
   "id": "vanilla-belfast",
   "metadata": {
    "execution": {
     "iopub.execute_input": "2021-06-15T16:41:23.457888Z",
     "iopub.status.busy": "2021-06-15T16:41:23.457151Z",
     "iopub.status.idle": "2021-06-15T16:41:28.157475Z",
     "shell.execute_reply": "2021-06-15T16:41:28.156572Z",
     "shell.execute_reply.started": "2021-06-15T15:54:53.581316Z"
    },
    "papermill": {
     "duration": 4.724181,
     "end_time": "2021-06-15T16:41:28.157621",
     "exception": false,
     "start_time": "2021-06-15T16:41:23.433440",
     "status": "completed"
    },
    "tags": []
   },
   "outputs": [],
   "source": [
    "import tensorflow as tf\n",
    "import tensorflow.keras as keras\n",
    "from tensorflow.keras.models import Model, Sequential, load_model\n",
    "from tensorflow.keras.layers import Dense, Dropout, Flatten , Convolution2D, MaxPooling2D , Lambda, Conv2D, Activation,Concatenate, Input\n",
    "from tensorflow.keras.optimizers import Adam , SGD , Adagrad\n",
    "from tensorflow.keras.callbacks import ModelCheckpoint, LearningRateScheduler, EarlyStopping, CSVLogger, ReduceLROnPlateau\n",
    "from tensorflow.keras.utils import to_categorical\n",
    "from tensorflow.keras import regularizers , initializers\n",
    "from sklearn.metrics import confusion_matrix\n",
    "import tensorflow.keras.backend as K\n",
    "from sklearn import metrics"
   ]
  },
  {
   "cell_type": "markdown",
   "id": "regulated-principle",
   "metadata": {
    "papermill": {
     "duration": 0.015392,
     "end_time": "2021-06-15T16:41:28.189108",
     "exception": false,
     "start_time": "2021-06-15T16:41:28.173716",
     "status": "completed"
    },
    "tags": []
   },
   "source": [
    "# Data Structure"
   ]
  },
  {
   "cell_type": "markdown",
   "id": "respiratory-lesson",
   "metadata": {
    "papermill": {
     "duration": 0.015506,
     "end_time": "2021-06-15T16:41:28.220238",
     "exception": false,
     "start_time": "2021-06-15T16:41:28.204732",
     "status": "completed"
    },
    "tags": []
   },
   "source": [
    "## 1.1 Load data"
   ]
  },
  {
   "cell_type": "code",
   "execution_count": 3,
   "id": "central-auditor",
   "metadata": {
    "execution": {
     "iopub.execute_input": "2021-06-15T16:41:28.260281Z",
     "iopub.status.busy": "2021-06-15T16:41:28.259763Z",
     "iopub.status.idle": "2021-06-15T16:41:48.253519Z",
     "shell.execute_reply": "2021-06-15T16:41:48.252819Z",
     "shell.execute_reply.started": "2021-06-15T15:54:58.906783Z"
    },
    "papermill": {
     "duration": 20.017783,
     "end_time": "2021-06-15T16:41:48.253717",
     "exception": false,
     "start_time": "2021-06-15T16:41:28.235934",
     "status": "completed"
    },
    "tags": []
   },
   "outputs": [],
   "source": [
    "path = \"../input/phys591000-higgs-production\"\n",
    "test = pd.read_csv(path+\"/High_Level_Features/Data_Project_Highlevelfeatures_Test.csv\")\n",
    "val = pd.read_csv(path+\"/High_Level_Features/Data_Project_Highlevelfeatures_Val.csv\")\n",
    "train = pd.read_csv(path+\"/High_Level_Features/Data_Project_Highlevelfeatures_Train.csv\")\n",
    "val_dict = pd.read_csv(\"/kaggle/input/phys591000-higgs-production/Data_Project_Val/val_dict.csv\")\n",
    "\n",
    "low_Train = pd.read_csv(\"/kaggle/input/phys591000-higgs-production/Data_Constituent/Data_Constituent_Train.csv\")\n",
    "low_Val = pd.read_csv(\"/kaggle/input/phys591000-higgs-production/Data_Constituent/Data_Constituent_Val.csv\")\n",
    "low_Test = pd.read_csv(\"/kaggle/input/phys591000-higgs-production/Data_Constituent/Data_Constituent_Test.csv\")\n"
   ]
  },
  {
   "cell_type": "code",
   "execution_count": null,
   "id": "binding-pakistan",
   "metadata": {
    "papermill": {
     "duration": 0.031214,
     "end_time": "2021-06-15T16:41:48.320818",
     "exception": false,
     "start_time": "2021-06-15T16:41:48.289604",
     "status": "completed"
    },
    "tags": []
   },
   "outputs": [],
   "source": []
  },
  {
   "cell_type": "code",
   "execution_count": 4,
   "id": "therapeutic-conflict",
   "metadata": {
    "execution": {
     "iopub.execute_input": "2021-06-15T16:41:48.387095Z",
     "iopub.status.busy": "2021-06-15T16:41:48.386339Z",
     "iopub.status.idle": "2021-06-15T16:41:48.517952Z",
     "shell.execute_reply": "2021-06-15T16:41:48.518443Z",
     "shell.execute_reply.started": "2021-06-15T15:55:19.737558Z"
    },
    "papermill": {
     "duration": 0.16826,
     "end_time": "2021-06-15T16:41:48.518609",
     "exception": false,
     "start_time": "2021-06-15T16:41:48.350349",
     "status": "completed"
    },
    "tags": []
   },
   "outputs": [
    {
     "name": "stdout",
     "output_type": "stream",
     "text": [
      "220000\n"
     ]
    }
   ],
   "source": [
    "Total_Data_HLF = pd.concat([val,train])\n",
    "Total_Data_HLF = pd.concat([test,Total_Data_HLF])\n",
    "print(len(Total_Data_HLF))\n",
    "\n",
    "from sklearn.model_selection import train_test_split\n",
    "train,temp = train_test_split(Total_Data_HLF, random_state=1000, train_size=0.63)\n",
    "test,val = train_test_split(temp, random_state=1000, train_size=0.5)\n",
    "\n",
    "# #print(len(Train_Data_HLF))\n",
    "# #print(len(Test_Data_HLF))"
   ]
  },
  {
   "cell_type": "markdown",
   "id": "narrative-diving",
   "metadata": {
    "papermill": {
     "duration": 0.026105,
     "end_time": "2021-06-15T16:41:48.571227",
     "exception": false,
     "start_time": "2021-06-15T16:41:48.545122",
     "status": "completed"
    },
    "tags": []
   },
   "source": [
    "## 1.2 Check shape of data"
   ]
  },
  {
   "cell_type": "code",
   "execution_count": 5,
   "id": "magnetic-regression",
   "metadata": {
    "execution": {
     "iopub.execute_input": "2021-06-15T16:41:48.626817Z",
     "iopub.status.busy": "2021-06-15T16:41:48.625526Z",
     "iopub.status.idle": "2021-06-15T16:41:48.629446Z",
     "shell.execute_reply": "2021-06-15T16:41:48.628865Z",
     "shell.execute_reply.started": "2021-06-15T15:55:19.843761Z"
    },
    "papermill": {
     "duration": 0.033161,
     "end_time": "2021-06-15T16:41:48.629597",
     "exception": false,
     "start_time": "2021-06-15T16:41:48.596436",
     "status": "completed"
    },
    "tags": []
   },
   "outputs": [
    {
     "name": "stdout",
     "output_type": "stream",
     "text": [
      "shape of test data: (40700, 17)\n",
      "shape of validation data: (40700, 17)\n",
      "shape of train data: (138600, 17)\n"
     ]
    }
   ],
   "source": [
    "print(\"shape of test data:\", test.shape)\n",
    "print(\"shape of validation data:\", val.shape)\n",
    "print(\"shape of train data:\", train.shape)"
   ]
  },
  {
   "cell_type": "markdown",
   "id": "rocky-congo",
   "metadata": {
    "papermill": {
     "duration": 0.016313,
     "end_time": "2021-06-15T16:41:48.663301",
     "exception": false,
     "start_time": "2021-06-15T16:41:48.646988",
     "status": "completed"
    },
    "tags": []
   },
   "source": [
    "## 1.3 see the feature of each table"
   ]
  },
  {
   "cell_type": "code",
   "execution_count": 6,
   "id": "progressive-white",
   "metadata": {
    "execution": {
     "iopub.execute_input": "2021-06-15T16:41:48.708539Z",
     "iopub.status.busy": "2021-06-15T16:41:48.708062Z",
     "iopub.status.idle": "2021-06-15T16:41:48.721527Z",
     "shell.execute_reply": "2021-06-15T16:41:48.720790Z",
     "shell.execute_reply.started": "2021-06-15T15:55:19.852251Z"
    },
    "papermill": {
     "duration": 0.042048,
     "end_time": "2021-06-15T16:41:48.721634",
     "exception": false,
     "start_time": "2021-06-15T16:41:48.679586",
     "status": "completed"
    },
    "tags": []
   },
   "outputs": [
    {
     "data": {
      "text/html": [
       "<div>\n",
       "<style scoped>\n",
       "    .dataframe tbody tr th:only-of-type {\n",
       "        vertical-align: middle;\n",
       "    }\n",
       "\n",
       "    .dataframe tbody tr th {\n",
       "        vertical-align: top;\n",
       "    }\n",
       "\n",
       "    .dataframe thead th {\n",
       "        text-align: right;\n",
       "    }\n",
       "</style>\n",
       "<table border=\"1\" class=\"dataframe\">\n",
       "  <thead>\n",
       "    <tr style=\"text-align: right;\">\n",
       "      <th></th>\n",
       "      <th>higgs_pt</th>\n",
       "      <th>higgs_eta</th>\n",
       "      <th>higgs_m</th>\n",
       "      <th>non_higgs_leading_pt</th>\n",
       "      <th>non_higgs_leading_eta</th>\n",
       "      <th>non_higgs_leading_m</th>\n",
       "      <th>mjj</th>\n",
       "      <th>girth</th>\n",
       "      <th>CIJS</th>\n",
       "      <th>SIJS</th>\n",
       "      <th>DeltaEta</th>\n",
       "      <th>weight</th>\n",
       "      <th>isGGH</th>\n",
       "      <th>isVBF</th>\n",
       "      <th>isVH</th>\n",
       "      <th>isttH</th>\n",
       "      <th>eventindex</th>\n",
       "    </tr>\n",
       "  </thead>\n",
       "  <tbody>\n",
       "    <tr>\n",
       "      <th>13725</th>\n",
       "      <td>1059.267876</td>\n",
       "      <td>0.356652</td>\n",
       "      <td>125.911904</td>\n",
       "      <td>632.724495</td>\n",
       "      <td>0.719442</td>\n",
       "      <td>101.877781</td>\n",
       "      <td>1453.961449</td>\n",
       "      <td>0.091795</td>\n",
       "      <td>0.748819</td>\n",
       "      <td>0.067473</td>\n",
       "      <td>1.757716</td>\n",
       "      <td>-0.000212</td>\n",
       "      <td>0</td>\n",
       "      <td>1</td>\n",
       "      <td>0</td>\n",
       "      <td>0</td>\n",
       "      <td>93725</td>\n",
       "    </tr>\n",
       "    <tr>\n",
       "      <th>10133</th>\n",
       "      <td>425.303594</td>\n",
       "      <td>0.706715</td>\n",
       "      <td>125.000171</td>\n",
       "      <td>333.675140</td>\n",
       "      <td>1.474978</td>\n",
       "      <td>104.846186</td>\n",
       "      <td>963.980036</td>\n",
       "      <td>0.259643</td>\n",
       "      <td>0.012990</td>\n",
       "      <td>0.495974</td>\n",
       "      <td>4.176346</td>\n",
       "      <td>0.541775</td>\n",
       "      <td>1</td>\n",
       "      <td>0</td>\n",
       "      <td>0</td>\n",
       "      <td>0</td>\n",
       "      <td>10133</td>\n",
       "    </tr>\n",
       "    <tr>\n",
       "      <th>31657</th>\n",
       "      <td>1049.980500</td>\n",
       "      <td>0.667234</td>\n",
       "      <td>144.048706</td>\n",
       "      <td>1055.356590</td>\n",
       "      <td>0.136908</td>\n",
       "      <td>239.676557</td>\n",
       "      <td>737.345242</td>\n",
       "      <td>0.190591</td>\n",
       "      <td>0.170357</td>\n",
       "      <td>0.590838</td>\n",
       "      <td>0.103373</td>\n",
       "      <td>0.000439</td>\n",
       "      <td>0</td>\n",
       "      <td>0</td>\n",
       "      <td>0</td>\n",
       "      <td>1</td>\n",
       "      <td>91657</td>\n",
       "    </tr>\n",
       "    <tr>\n",
       "      <th>9435</th>\n",
       "      <td>1179.065969</td>\n",
       "      <td>1.119483</td>\n",
       "      <td>133.108042</td>\n",
       "      <td>1214.206284</td>\n",
       "      <td>1.413638</td>\n",
       "      <td>99.754352</td>\n",
       "      <td>431.904425</td>\n",
       "      <td>0.032117</td>\n",
       "      <td>0.949237</td>\n",
       "      <td>0.025854</td>\n",
       "      <td>0.573758</td>\n",
       "      <td>-0.005601</td>\n",
       "      <td>1</td>\n",
       "      <td>0</td>\n",
       "      <td>0</td>\n",
       "      <td>0</td>\n",
       "      <td>99435</td>\n",
       "    </tr>\n",
       "    <tr>\n",
       "      <th>16070</th>\n",
       "      <td>404.027341</td>\n",
       "      <td>-1.181485</td>\n",
       "      <td>101.093913</td>\n",
       "      <td>428.561172</td>\n",
       "      <td>-0.719154</td>\n",
       "      <td>73.862253</td>\n",
       "      <td>238.207967</td>\n",
       "      <td>0.147204</td>\n",
       "      <td>0.210792</td>\n",
       "      <td>0.624083</td>\n",
       "      <td>0.239114</td>\n",
       "      <td>0.544194</td>\n",
       "      <td>1</td>\n",
       "      <td>0</td>\n",
       "      <td>0</td>\n",
       "      <td>0</td>\n",
       "      <td>16070</td>\n",
       "    </tr>\n",
       "  </tbody>\n",
       "</table>\n",
       "</div>"
      ],
      "text/plain": [
       "          higgs_pt  higgs_eta     higgs_m  non_higgs_leading_pt  \\\n",
       "13725  1059.267876   0.356652  125.911904            632.724495   \n",
       "10133   425.303594   0.706715  125.000171            333.675140   \n",
       "31657  1049.980500   0.667234  144.048706           1055.356590   \n",
       "9435   1179.065969   1.119483  133.108042           1214.206284   \n",
       "16070   404.027341  -1.181485  101.093913            428.561172   \n",
       "\n",
       "       non_higgs_leading_eta  non_higgs_leading_m          mjj     girth  \\\n",
       "13725               0.719442           101.877781  1453.961449  0.091795   \n",
       "10133               1.474978           104.846186   963.980036  0.259643   \n",
       "31657               0.136908           239.676557   737.345242  0.190591   \n",
       "9435                1.413638            99.754352   431.904425  0.032117   \n",
       "16070              -0.719154            73.862253   238.207967  0.147204   \n",
       "\n",
       "           CIJS      SIJS  DeltaEta    weight  isGGH  isVBF  isVH  isttH  \\\n",
       "13725  0.748819  0.067473  1.757716 -0.000212      0      1     0      0   \n",
       "10133  0.012990  0.495974  4.176346  0.541775      1      0     0      0   \n",
       "31657  0.170357  0.590838  0.103373  0.000439      0      0     0      1   \n",
       "9435   0.949237  0.025854  0.573758 -0.005601      1      0     0      0   \n",
       "16070  0.210792  0.624083  0.239114  0.544194      1      0     0      0   \n",
       "\n",
       "       eventindex  \n",
       "13725       93725  \n",
       "10133       10133  \n",
       "31657       91657  \n",
       "9435        99435  \n",
       "16070       16070  "
      ]
     },
     "execution_count": 6,
     "metadata": {},
     "output_type": "execute_result"
    }
   ],
   "source": [
    "train.head()"
   ]
  },
  {
   "cell_type": "code",
   "execution_count": 7,
   "id": "strong-potato",
   "metadata": {
    "execution": {
     "iopub.execute_input": "2021-06-15T16:41:48.767202Z",
     "iopub.status.busy": "2021-06-15T16:41:48.766015Z",
     "iopub.status.idle": "2021-06-15T16:41:48.776133Z",
     "shell.execute_reply": "2021-06-15T16:41:48.775702Z",
     "shell.execute_reply.started": "2021-06-15T15:55:19.882152Z"
    },
    "papermill": {
     "duration": 0.037533,
     "end_time": "2021-06-15T16:41:48.776246",
     "exception": false,
     "start_time": "2021-06-15T16:41:48.738713",
     "status": "completed"
    },
    "tags": []
   },
   "outputs": [],
   "source": [
    "features = [\"higgs_pt\", \"higgs_eta\", \"higgs_m\", \"non_higgs_leading_pt\", \"non_higgs_leading_eta\", \"non_higgs_leading_m\", \"mjj\" ,\"girth\", \"CIJS\", \"SIJS\", \"DeltaEta\", \"weight\"]\n",
    "#features = [\"higgs_pt\", \"non_higgs_leading_pt\", \"non_higgs_leading_eta\", \"mjj\"]\n",
    "\n",
    "train_array = train[features]\n",
    "train_array = np.array(train_array)\n",
    "\n",
    "test_array = test[features]\n",
    "test_array = np.array(test_array)\n",
    "\n",
    "val_array = val[features]\n",
    "val_array = np.array(val_array)"
   ]
  },
  {
   "cell_type": "code",
   "execution_count": 8,
   "id": "southeast-sheep",
   "metadata": {
    "execution": {
     "iopub.execute_input": "2021-06-15T16:41:48.818377Z",
     "iopub.status.busy": "2021-06-15T16:41:48.817395Z",
     "iopub.status.idle": "2021-06-15T16:41:48.824382Z",
     "shell.execute_reply": "2021-06-15T16:41:48.823895Z",
     "shell.execute_reply.started": "2021-06-15T15:55:19.907124Z"
    },
    "papermill": {
     "duration": 0.031262,
     "end_time": "2021-06-15T16:41:48.824504",
     "exception": false,
     "start_time": "2021-06-15T16:41:48.793242",
     "status": "completed"
    },
    "tags": []
   },
   "outputs": [],
   "source": [
    "label = [\"isGGH\", \"isVBF\", \"isVH\", \"isttH\"]\n",
    "\n",
    "#train[\"notVBF\"] = train[\"isGGH\"] + train[\"isttH\"] + train[\"isVH\"]\n",
    "#val[\"notVBF\"] = val[\"isGGH\"] + val[\"isttH\"] + val[\"isVH\"]\n",
    "\n",
    "#train[\"notGGH\"] = train[\"isVBF\"] + train[\"isttH\"] + train[\"isVH\"]\n",
    "#val[\"notGGH\"] = val[\"isVBF\"] + val[\"isttH\"] + val[\"isVH\"]\n",
    "\n",
    "#label = [\"isVBF\", \"notVBF\"]\n",
    "#label = [\"isGGH\", \"notGGH\"]\n",
    "target_train = train[label]\n",
    "target_train = np.array(target_train)\n",
    "\n",
    "target_test = test[label]\n",
    "target_test = np.array(target_test)\n",
    "\n",
    "target_val = val[label]\n",
    "target_val = np.array(target_val)"
   ]
  },
  {
   "cell_type": "code",
   "execution_count": 9,
   "id": "understanding-savage",
   "metadata": {
    "execution": {
     "iopub.execute_input": "2021-06-15T16:41:48.866751Z",
     "iopub.status.busy": "2021-06-15T16:41:48.866109Z",
     "iopub.status.idle": "2021-06-15T16:42:34.522577Z",
     "shell.execute_reply": "2021-06-15T16:42:34.522143Z",
     "shell.execute_reply.started": "2021-06-15T16:30:12.539167Z"
    },
    "papermill": {
     "duration": 45.681451,
     "end_time": "2021-06-15T16:42:34.522743",
     "exception": false,
     "start_time": "2021-06-15T16:41:48.841292",
     "status": "completed"
    },
    "tags": []
   },
   "outputs": [
    {
     "name": "stdout",
     "output_type": "stream",
     "text": [
      "Model: \"sequential\"\n",
      "_________________________________________________________________\n",
      "Layer (type)                 Output Shape              Param #   \n",
      "=================================================================\n",
      "dense (Dense)                (None, 256)               3328      \n",
      "_________________________________________________________________\n",
      "dense_1 (Dense)              (None, 128)               32896     \n",
      "_________________________________________________________________\n",
      "dense_2 (Dense)              (None, 64)                8256      \n",
      "_________________________________________________________________\n",
      "dense_3 (Dense)              (None, 32)                2080      \n",
      "_________________________________________________________________\n",
      "dense_4 (Dense)              (None, 16)                528       \n",
      "_________________________________________________________________\n",
      "dense_5 (Dense)              (None, 8)                 136       \n",
      "_________________________________________________________________\n",
      "dense_6 (Dense)              (None, 4)                 36        \n",
      "=================================================================\n",
      "Total params: 47,260\n",
      "Trainable params: 47,260\n",
      "Non-trainable params: 0\n",
      "_________________________________________________________________\n",
      "Epoch 1/50\n",
      "271/271 [==============================] - 3s 5ms/step - loss: 2.0501 - acc: 0.3198 - val_loss: 1.3193 - val_acc: 0.3067\n",
      "Epoch 2/50\n",
      "271/271 [==============================] - 1s 3ms/step - loss: 1.2725 - acc: 0.4313 - val_loss: 1.1903 - val_acc: 0.5729\n",
      "Epoch 3/50\n",
      "271/271 [==============================] - 1s 3ms/step - loss: 1.1752 - acc: 0.5663 - val_loss: 1.0702 - val_acc: 0.5954\n",
      "Epoch 4/50\n",
      "271/271 [==============================] - 1s 3ms/step - loss: 1.0645 - acc: 0.6041 - val_loss: 1.0174 - val_acc: 0.6238\n",
      "Epoch 5/50\n",
      "271/271 [==============================] - 1s 3ms/step - loss: 1.0046 - acc: 0.6150 - val_loss: 0.9514 - val_acc: 0.6265\n",
      "Epoch 6/50\n",
      "271/271 [==============================] - 1s 3ms/step - loss: 0.9525 - acc: 0.6234 - val_loss: 0.9038 - val_acc: 0.6429\n",
      "Epoch 7/50\n",
      "271/271 [==============================] - 1s 3ms/step - loss: 0.9094 - acc: 0.6379 - val_loss: 0.8601 - val_acc: 0.6555\n",
      "Epoch 8/50\n",
      "271/271 [==============================] - 1s 4ms/step - loss: 0.8531 - acc: 0.6608 - val_loss: 0.8349 - val_acc: 0.6694\n",
      "Epoch 9/50\n",
      "271/271 [==============================] - 1s 3ms/step - loss: 0.8323 - acc: 0.6728 - val_loss: 0.8324 - val_acc: 0.6677\n",
      "Epoch 10/50\n",
      "271/271 [==============================] - 1s 3ms/step - loss: 0.8191 - acc: 0.6791 - val_loss: 0.8023 - val_acc: 0.6866\n",
      "Epoch 11/50\n",
      "271/271 [==============================] - 1s 3ms/step - loss: 0.8089 - acc: 0.6822 - val_loss: 0.8302 - val_acc: 0.6713\n",
      "Epoch 12/50\n",
      "271/271 [==============================] - 1s 3ms/step - loss: 0.8037 - acc: 0.6845 - val_loss: 0.8251 - val_acc: 0.6749\n",
      "Epoch 13/50\n",
      "271/271 [==============================] - 1s 3ms/step - loss: 0.7999 - acc: 0.6865 - val_loss: 0.7898 - val_acc: 0.6900\n",
      "Epoch 14/50\n",
      "271/271 [==============================] - 1s 3ms/step - loss: 0.7817 - acc: 0.6935 - val_loss: 0.7728 - val_acc: 0.6968\n",
      "Epoch 15/50\n",
      "271/271 [==============================] - 1s 3ms/step - loss: 0.7606 - acc: 0.7025 - val_loss: 0.7547 - val_acc: 0.7022\n",
      "Epoch 16/50\n",
      "271/271 [==============================] - 1s 3ms/step - loss: 0.7409 - acc: 0.7138 - val_loss: 0.7127 - val_acc: 0.7291\n",
      "Epoch 17/50\n",
      "271/271 [==============================] - 1s 3ms/step - loss: 0.7018 - acc: 0.7332 - val_loss: 0.7501 - val_acc: 0.7134\n",
      "Epoch 18/50\n",
      "271/271 [==============================] - 1s 3ms/step - loss: 0.7180 - acc: 0.7278 - val_loss: 0.6381 - val_acc: 0.7569\n",
      "Epoch 19/50\n",
      "271/271 [==============================] - 1s 3ms/step - loss: 0.6572 - acc: 0.7514 - val_loss: 0.8165 - val_acc: 0.6757\n",
      "Epoch 20/50\n",
      "271/271 [==============================] - 1s 3ms/step - loss: 0.7727 - acc: 0.7012 - val_loss: 0.7077 - val_acc: 0.7286\n",
      "Epoch 21/50\n",
      "271/271 [==============================] - 1s 3ms/step - loss: 0.6987 - acc: 0.7333 - val_loss: 0.6789 - val_acc: 0.7435\n",
      "Epoch 22/50\n",
      "271/271 [==============================] - 1s 3ms/step - loss: 0.6716 - acc: 0.7462 - val_loss: 0.6557 - val_acc: 0.7514\n",
      "Epoch 23/50\n",
      "271/271 [==============================] - 1s 3ms/step - loss: 0.6317 - acc: 0.7602 - val_loss: 0.6365 - val_acc: 0.7561\n",
      "Epoch 24/50\n",
      "271/271 [==============================] - 1s 3ms/step - loss: 0.6283 - acc: 0.7593 - val_loss: 0.6292 - val_acc: 0.7578\n",
      "Epoch 25/50\n",
      "271/271 [==============================] - 1s 3ms/step - loss: 0.6212 - acc: 0.7638 - val_loss: 0.6117 - val_acc: 0.7629\n",
      "Epoch 26/50\n",
      "271/271 [==============================] - 1s 3ms/step - loss: 0.6144 - acc: 0.7643 - val_loss: 0.5989 - val_acc: 0.7690\n",
      "Epoch 27/50\n",
      "271/271 [==============================] - 1s 3ms/step - loss: 0.6048 - acc: 0.7682 - val_loss: 0.6000 - val_acc: 0.7665\n",
      "Epoch 28/50\n",
      "271/271 [==============================] - 1s 3ms/step - loss: 0.6971 - acc: 0.7348 - val_loss: 1.7051 - val_acc: 0.2477\n",
      "Epoch 29/50\n",
      "271/271 [==============================] - 1s 3ms/step - loss: 1.6203 - acc: 0.2487 - val_loss: 1.4771 - val_acc: 0.2477\n",
      "Epoch 30/50\n",
      "271/271 [==============================] - 1s 3ms/step - loss: 1.4556 - acc: 0.2506 - val_loss: 1.4172 - val_acc: 0.2477\n",
      "Epoch 31/50\n",
      "271/271 [==============================] - 1s 3ms/step - loss: 1.4106 - acc: 0.2483 - val_loss: 1.3960 - val_acc: 0.2477\n",
      "Epoch 32/50\n",
      "271/271 [==============================] - 1s 3ms/step - loss: 1.3935 - acc: 0.2492 - val_loss: 1.3889 - val_acc: 0.2477\n",
      "Epoch 33/50\n",
      "271/271 [==============================] - 1s 3ms/step - loss: 1.3882 - acc: 0.2494 - val_loss: 1.3869 - val_acc: 0.2477\n",
      "Epoch 34/50\n",
      "271/271 [==============================] - 1s 3ms/step - loss: 1.3867 - acc: 0.2509 - val_loss: 1.3864 - val_acc: 0.2477\n",
      "Epoch 35/50\n",
      "271/271 [==============================] - 1s 4ms/step - loss: 1.3864 - acc: 0.2494 - val_loss: 1.3863 - val_acc: 0.2477\n",
      "Epoch 36/50\n",
      "271/271 [==============================] - 1s 3ms/step - loss: 1.3863 - acc: 0.2500 - val_loss: 1.3863 - val_acc: 0.2477\n",
      "Epoch 37/50\n",
      "271/271 [==============================] - 1s 4ms/step - loss: 1.3863 - acc: 0.2503 - val_loss: 1.3863 - val_acc: 0.2508\n",
      "Epoch 38/50\n",
      "271/271 [==============================] - 1s 3ms/step - loss: 1.3863 - acc: 0.2518 - val_loss: 1.3863 - val_acc: 0.2508\n",
      "Epoch 39/50\n",
      "271/271 [==============================] - 1s 3ms/step - loss: 1.3863 - acc: 0.2524 - val_loss: 1.3863 - val_acc: 0.2489\n",
      "Epoch 40/50\n",
      "271/271 [==============================] - 1s 3ms/step - loss: 1.3863 - acc: 0.2512 - val_loss: 1.3863 - val_acc: 0.2508\n",
      "Epoch 41/50\n",
      "271/271 [==============================] - 1s 3ms/step - loss: 1.3863 - acc: 0.2497 - val_loss: 1.3863 - val_acc: 0.2489\n",
      "Epoch 42/50\n",
      "271/271 [==============================] - 1s 3ms/step - loss: 1.3863 - acc: 0.2470 - val_loss: 1.3863 - val_acc: 0.2508\n",
      "Epoch 43/50\n",
      "271/271 [==============================] - 1s 3ms/step - loss: 1.3863 - acc: 0.2524 - val_loss: 1.3863 - val_acc: 0.2489\n",
      "Epoch 44/50\n",
      "271/271 [==============================] - 1s 3ms/step - loss: 1.3863 - acc: 0.2502 - val_loss: 1.3863 - val_acc: 0.2489\n",
      "Epoch 45/50\n",
      "271/271 [==============================] - 1s 3ms/step - loss: 1.3863 - acc: 0.2500 - val_loss: 1.3863 - val_acc: 0.2477\n",
      "Epoch 46/50\n",
      "271/271 [==============================] - 1s 3ms/step - loss: 1.3863 - acc: 0.2498 - val_loss: 1.3863 - val_acc: 0.2508\n",
      "Epoch 47/50\n",
      "271/271 [==============================] - 1s 3ms/step - loss: 1.3863 - acc: 0.2504 - val_loss: 1.3863 - val_acc: 0.2508\n",
      "Epoch 48/50\n",
      "271/271 [==============================] - 1s 4ms/step - loss: 1.3863 - acc: 0.2510 - val_loss: 1.3863 - val_acc: 0.2508\n",
      "Epoch 49/50\n",
      "271/271 [==============================] - 1s 3ms/step - loss: 1.3863 - acc: 0.2495 - val_loss: 1.3863 - val_acc: 0.2526\n",
      "Epoch 50/50\n",
      "271/271 [==============================] - 1s 3ms/step - loss: 1.3863 - acc: 0.2518 - val_loss: 1.3864 - val_acc: 0.2477\n"
     ]
    }
   ],
   "source": [
    "\"\"\"\n",
    "Define the Optimizer\n",
    "\"\"\"\n",
    "opt = keras.optimizers.Adadelta(learning_rate=0.01)\n",
    "\n",
    "\n",
    "\"\"\"\n",
    "Compile Model\n",
    "\"\"\"\n",
    "\n",
    "model = Sequential()\n",
    "model.add(Dense(256, activation='relu', input_shape=(12,)))\n",
    "model.add(Dense(128, activation='relu'))\n",
    "model.add(Dense(64, activation='relu'))\n",
    "model.add(Dense(32, activation='relu'))\n",
    "model.add(Dense(16, activation='relu'))\n",
    "model.add(Dense(8, activation='relu'))\n",
    "#model.add(Dense(4, activation='relu'))\n",
    "model.add(Dense(4, activation='softmax'))\n",
    "model.compile(optimizer='adam', loss='categorical_crossentropy', metrics=['acc'])\n",
    "\n",
    "\"\"\"\n",
    "Print Architecture\n",
    "\"\"\"\n",
    "model.summary()\n",
    "\n",
    "\"\"\"\n",
    "Model Training\n",
    "\"\"\"\n",
    "History_jet = model.fit(train_array, target_train,\n",
    "               validation_data= (val_array, target_val),\n",
    "               batch_size=512,\n",
    "               epochs=50,\n",
    "               verbose=1\n",
    "              )\n",
    "\n",
    "\"\"\"\n",
    "Save Model\n",
    "\"\"\"\n",
    "model.save(\"./model_DNN.h5\")"
   ]
  },
  {
   "cell_type": "code",
   "execution_count": 10,
   "id": "desirable-keyboard",
   "metadata": {
    "execution": {
     "iopub.execute_input": "2021-06-15T16:42:34.924445Z",
     "iopub.status.busy": "2021-06-15T16:42:34.923875Z",
     "iopub.status.idle": "2021-06-15T16:42:36.805615Z",
     "shell.execute_reply": "2021-06-15T16:42:36.804974Z",
     "shell.execute_reply.started": "2021-06-15T16:31:03.710384Z"
    },
    "papermill": {
     "duration": 2.086153,
     "end_time": "2021-06-15T16:42:36.805795",
     "exception": false,
     "start_time": "2021-06-15T16:42:34.719642",
     "status": "completed"
    },
    "tags": []
   },
   "outputs": [
    {
     "name": "stdout",
     "output_type": "stream",
     "text": [
      "dict_keys(['loss', 'acc', 'val_loss', 'val_acc'])\n"
     ]
    },
    {
     "data": {
      "image/png": "[encoded data removed]",
      "text/plain": [
       "<Figure size 720x720 with 1 Axes>"
      ]
     },
     "metadata": {
      "needs_background": "light"
     },
     "output_type": "display_data"
    },
    {
     "name": "stdout",
     "output_type": "stream",
     "text": [
      "Validation accuracy is [1.3863661289215088, 0.24771498143672943]\n"
     ]
    }
   ],
   "source": [
    "from sklearn import metrics\n",
    "from sklearn.metrics import confusion_matrix\n",
    "from mpl_toolkits.axes_grid1 import make_axes_locatable\n",
    "# Please code in this cell\n",
    "\n",
    "print(History_jet.history.keys())\n",
    "\n",
    "\n",
    "fig, ax = plt.subplots(1,1, figsize=(10,10))\n",
    "\n",
    "plt.plot(History_jet.history[\"loss\"], label='training data',c='blue',linewidth = 3)\n",
    "plt.plot(History_jet.history[\"val_loss\"], label='validation data',c='red',linewidth = 3)\n",
    "#plt.ylim(0,1)\n",
    "plt.title(\"DNN\", fontsize=25)\n",
    "ax.set_ylabel('loss', fontsize=25,horizontalalignment='right',y=1)\n",
    "ax.set_xlabel('epoch', fontsize=25,horizontalalignment='right',x=1)\n",
    "plt.legend(loc='best', prop={'size':20}, edgecolor = \"w\",fancybox=False, framealpha=0)\n",
    "\n",
    "\n",
    "plt.show()\n",
    "\n",
    "scores = model.evaluate(val_array, target_val, verbose=0)\n",
    "print(\"Validation accuracy is {}\".format(scores))"
   ]
  },
  {
   "cell_type": "code",
   "execution_count": 11,
   "id": "passive-cameroon",
   "metadata": {
    "execution": {
     "iopub.execute_input": "2021-06-15T16:42:37.207408Z",
     "iopub.status.busy": "2021-06-15T16:42:37.206890Z",
     "iopub.status.idle": "2021-06-15T16:42:43.172699Z",
     "shell.execute_reply": "2021-06-15T16:42:43.173383Z",
     "shell.execute_reply.started": "2021-06-15T16:31:08.786930Z"
    },
    "papermill": {
     "duration": 6.172356,
     "end_time": "2021-06-15T16:42:43.173589",
     "exception": false,
     "start_time": "2021-06-15T16:42:37.001233",
     "status": "completed"
    },
    "tags": []
   },
   "outputs": [
    {
     "name": "stdout",
     "output_type": "stream",
     "text": [
      "Test accuracy is [1.3862978219985962, 0.2525061368942261]\n"
     ]
    }
   ],
   "source": [
    "model = load_model(\"./model_DNN.h5\")\n",
    "\n",
    "prediction_train = model.predict(train_array)\n",
    "prediction_test = model.predict(test_array)\n",
    "\n",
    "scores = model.evaluate(test_array, target_test, verbose=0)\n",
    "print(\"Test accuracy is {}\".format(scores))\n",
    "\n"
   ]
  },
  {
   "cell_type": "code",
   "execution_count": 12,
   "id": "southern-dakota",
   "metadata": {
    "execution": {
     "iopub.execute_input": "2021-06-15T16:42:43.748959Z",
     "iopub.status.busy": "2021-06-15T16:42:43.748096Z",
     "iopub.status.idle": "2021-06-15T16:42:44.017085Z",
     "shell.execute_reply": "2021-06-15T16:42:44.016516Z",
     "shell.execute_reply.started": "2021-06-15T16:34:27.274399Z"
    },
    "papermill": {
     "duration": 0.51481,
     "end_time": "2021-06-15T16:42:44.017278",
     "exception": false,
     "start_time": "2021-06-15T16:42:43.502468",
     "status": "completed"
    },
    "tags": []
   },
   "outputs": [
    {
     "data": {
      "image/png": "[encoded data removed]",
      "text/plain": [
       "<Figure size 720x720 with 1 Axes>"
      ]
     },
     "metadata": {
      "needs_background": "light"
     },
     "output_type": "display_data"
    }
   ],
   "source": [
    "axis = 3\n",
    "auc_train = metrics.roc_auc_score(target_train[:,axis],prediction_train[:,axis])\n",
    "auc_test = metrics.roc_auc_score(target_test[:,axis],prediction_test[:,axis])\n",
    "\n",
    "FalsePositive_train, TruePositive_train, _ = metrics.roc_curve(target_train[:,axis],prediction_train[:,axis])\n",
    "FalsePositive_test, TruePositive_test, _ = metrics.roc_curve(target_test[:,axis],prediction_test[:,axis])\n",
    "\n",
    "fig, ax = plt.subplots(1,1, figsize=(10,10))\n",
    "\n",
    "\n",
    "plt.plot(FalsePositive_train, TruePositive_train,linewidth = 3, linestyle=\"-\", label='AUC={0:.2f} (Train)'.format(auc_train))\n",
    "plt.plot(FalsePositive_test, TruePositive_test,linewidth = 3, linestyle=\"-\", label='AUC={0:.2f} (Test)'.format(auc_test))\n",
    "\n",
    "ax.tick_params(axis='x', labelsize=20)\n",
    "ax.tick_params(axis='y', labelsize=20)\n",
    "plt.ylabel(\"TPR\",fontsize=20)\n",
    "plt.xlabel(\"FPR\",fontsize=20)\n",
    "plt.legend(ncol=1,fontsize=15) \n",
    "plt.tight_layout()\n",
    "\n",
    "plt.show()"
   ]
  },
  {
   "cell_type": "code",
   "execution_count": 13,
   "id": "norman-renaissance",
   "metadata": {
    "execution": {
     "iopub.execute_input": "2021-06-15T16:42:44.432737Z",
     "iopub.status.busy": "2021-06-15T16:42:44.431920Z",
     "iopub.status.idle": "2021-06-15T16:42:44.677696Z",
     "shell.execute_reply": "2021-06-15T16:42:44.677215Z",
     "shell.execute_reply.started": "2021-06-15T16:31:19.192797Z"
    },
    "papermill": {
     "duration": 0.450086,
     "end_time": "2021-06-15T16:42:44.677823",
     "exception": false,
     "start_time": "2021-06-15T16:42:44.227737",
     "status": "completed"
    },
    "tags": []
   },
   "outputs": [
    {
     "name": "stdout",
     "output_type": "stream",
     "text": [
      "[[0. 1. 0. 0.]\n",
      " [0. 1. 0. 0.]\n",
      " [0. 1. 0. 0.]\n",
      " [0. 1. 0. 0.]] \n",
      "\n"
     ]
    },
    {
     "data": {
      "image/png": "[encoded data removed]",
      "text/plain": [
       "<Figure size 576x576 with 2 Axes>"
      ]
     },
     "metadata": {
      "needs_background": "light"
     },
     "output_type": "display_data"
    }
   ],
   "source": [
    "matrix = confusion_matrix(target_test.argmax(axis=1), prediction_test.argmax(axis=1),normalize='true')\n",
    "print(matrix,'\\n')\n",
    "\n",
    "for a in range(4):\n",
    "    matrix[a] = ['{:.3f}'.format(i) for i in matrix[a]] \n",
    "    \n",
    "fig, ax = plt.subplots(1, 1, figsize=(8,8))\n",
    "ax.set_title('Confusion Matrix', fontsize=30)\n",
    "classes = ['GGH','VBF','VH','ttH']\n",
    "sns.heatmap(matrix,cmap='Blues', square=True, annot=True, ax=ax,annot_kws={'size':20},fmt = 'n',xticklabels = classes, yticklabels = classes)\n",
    "ax.tick_params(labelsize=20)\n",
    "\n",
    "plt.show()"
   ]
  },
  {
   "cell_type": "code",
   "execution_count": 14,
   "id": "boxed-biodiversity",
   "metadata": {
    "execution": {
     "iopub.execute_input": "2021-06-15T16:42:45.080483Z",
     "iopub.status.busy": "2021-06-15T16:42:45.079961Z",
     "iopub.status.idle": "2021-06-15T16:42:45.086021Z",
     "shell.execute_reply": "2021-06-15T16:42:45.085388Z"
    },
    "papermill": {
     "duration": 0.210222,
     "end_time": "2021-06-15T16:42:45.086243",
     "exception": false,
     "start_time": "2021-06-15T16:42:44.876021",
     "status": "completed"
    },
    "tags": []
   },
   "outputs": [
    {
     "name": "stdout",
     "output_type": "stream",
     "text": [
      "[[0.25097078 0.2514621  0.25065804 0.24690907]\n",
      " [0.25097078 0.2514621  0.25065804 0.24690907]\n",
      " [0.25097078 0.2514621  0.25065804 0.24690907]\n",
      " ...\n",
      " [0.25097078 0.2514621  0.25065804 0.24690907]\n",
      " [0.25097078 0.2514621  0.25065804 0.24690907]\n",
      " [0.25097078 0.2514621  0.25065804 0.24690907]]\n",
      "[[0 1 0 0]\n",
      " [1 0 0 0]\n",
      " [0 0 1 0]\n",
      " ...\n",
      " [0 1 0 0]\n",
      " [0 0 1 0]\n",
      " [1 0 0 0]]\n"
     ]
    }
   ],
   "source": [
    "print(prediction_test)\n",
    "print(target_test)"
   ]
  },
  {
   "cell_type": "code",
   "execution_count": 15,
   "id": "complete-enemy",
   "metadata": {
    "execution": {
     "iopub.execute_input": "2021-06-15T16:42:45.513843Z",
     "iopub.status.busy": "2021-06-15T16:42:45.513290Z",
     "iopub.status.idle": "2021-06-15T16:42:45.517213Z",
     "shell.execute_reply": "2021-06-15T16:42:45.516818Z"
    },
    "papermill": {
     "duration": 0.223612,
     "end_time": "2021-06-15T16:42:45.517332",
     "exception": false,
     "start_time": "2021-06-15T16:42:45.293720",
     "status": "completed"
    },
    "tags": []
   },
   "outputs": [],
   "source": [
    "from sklearn.metrics import confusion_matrix\n",
    "import seaborn as sns\n",
    "#y_pred = tree_model.predict(test_array)\n",
    "\n",
    "\n",
    "# confusion_matrix2 = confusion_matrix(test_array, prediction_test)\n",
    "# print(target_test.shape, prediction_test.shape)\n",
    "# fig, ax = plt.subplots(1, 1, figsize=(8,8))\n",
    "# ax.set_title('Confusion Matrix', fontsize=30)\n",
    "# classes = ['GGH','VBF','VH','ttH']\n",
    "# sns.heatmap(confusion_matrix2, square=True, annot=True, ax=ax,annot_kws={'size':20},fmt = 'n',xticklabels = classes, yticklabels = classes)\n",
    "# ax.tick_params(labelsize=20)\n",
    "\n",
    "# plt.show()"
   ]
  },
  {
   "cell_type": "code",
   "execution_count": 16,
   "id": "visible-remove",
   "metadata": {
    "execution": {
     "iopub.execute_input": "2021-06-15T16:42:45.930950Z",
     "iopub.status.busy": "2021-06-15T16:42:45.929908Z",
     "iopub.status.idle": "2021-06-15T16:42:50.199359Z",
     "shell.execute_reply": "2021-06-15T16:42:50.198913Z"
    },
    "papermill": {
     "duration": 4.481454,
     "end_time": "2021-06-15T16:42:50.199485",
     "exception": false,
     "start_time": "2021-06-15T16:42:45.718031",
     "status": "completed"
    },
    "tags": []
   },
   "outputs": [
    {
     "name": "stdout",
     "output_type": "stream",
     "text": [
      "9261470\n"
     ]
    }
   ],
   "source": [
    "Total_Data_LLF = pd.concat([low_Val,low_Train])\n",
    "Total_Data_LLF = pd.concat([low_Test,Total_Data_LLF])\n",
    "print(len(Total_Data_LLF))\n",
    "\n",
    "from sklearn.model_selection import train_test_split\n",
    "train_L,temp_L = train_test_split(Total_Data_LLF, random_state=1000, train_size=0.62)\n",
    "test_L,val_L = train_test_split(temp_L, random_state=1000, train_size=0.5)\n",
    "\n"
   ]
  },
  {
   "cell_type": "code",
   "execution_count": 17,
   "id": "improved-project",
   "metadata": {
    "execution": {
     "iopub.execute_input": "2021-06-15T16:42:50.841384Z",
     "iopub.status.busy": "2021-06-15T16:42:50.774281Z",
     "iopub.status.idle": "2021-06-15T16:42:51.986118Z",
     "shell.execute_reply": "2021-06-15T16:42:51.986560Z"
    },
    "papermill": {
     "duration": 1.589324,
     "end_time": "2021-06-15T16:42:51.986728",
     "exception": false,
     "start_time": "2021-06-15T16:42:50.397404",
     "status": "completed"
    },
    "tags": []
   },
   "outputs": [
    {
     "ename": "KeyError",
     "evalue": "\"None of [Index(['process_ggF', 'process_VBF', 'process_VH', 'process_ttH'], dtype='object')] are in the [columns]\"",
     "output_type": "error",
     "traceback": [
      "\u001b[0;31m---------------------------------------------------------------------------\u001b[0m",
      "\u001b[0;31mKeyError\u001b[0m                                  Traceback (most recent call last)",
      "\u001b[0;32m<ipython-input-17-05eec900a42e>\u001b[0m in \u001b[0;36m<module>\u001b[0;34m\u001b[0m\n\u001b[1;32m      4\u001b[0m \u001b[0mpd\u001b[0m\u001b[0;34m.\u001b[0m\u001b[0mget_dummies\u001b[0m\u001b[0;34m(\u001b[0m\u001b[0mval_L\u001b[0m\u001b[0;34m)\u001b[0m\u001b[0;34m\u001b[0m\u001b[0;34m\u001b[0m\u001b[0m\n\u001b[1;32m      5\u001b[0m \u001b[0;34m\u001b[0m\u001b[0m\n\u001b[0;32m----> 6\u001b[0;31m \u001b[0mtarget_train_L\u001b[0m \u001b[0;34m=\u001b[0m \u001b[0mtrain_L\u001b[0m\u001b[0;34m[\u001b[0m\u001b[0mlabel\u001b[0m\u001b[0;34m]\u001b[0m\u001b[0;34m\u001b[0m\u001b[0;34m\u001b[0m\u001b[0m\n\u001b[0m\u001b[1;32m      7\u001b[0m \u001b[0mtarget_train_L\u001b[0m \u001b[0;34m=\u001b[0m \u001b[0mnp\u001b[0m\u001b[0;34m.\u001b[0m\u001b[0marray\u001b[0m\u001b[0;34m(\u001b[0m\u001b[0mtarget_train_L\u001b[0m\u001b[0;34m)\u001b[0m\u001b[0;34m\u001b[0m\u001b[0;34m\u001b[0m\u001b[0m\n\u001b[1;32m      8\u001b[0m \u001b[0;34m\u001b[0m\u001b[0m\n",
      "\u001b[0;32m/opt/conda/lib/python3.7/site-packages/pandas/core/frame.py\u001b[0m in \u001b[0;36m__getitem__\u001b[0;34m(self, key)\u001b[0m\n\u001b[1;32m   2910\u001b[0m             \u001b[0;32mif\u001b[0m \u001b[0mis_iterator\u001b[0m\u001b[0;34m(\u001b[0m\u001b[0mkey\u001b[0m\u001b[0;34m)\u001b[0m\u001b[0;34m:\u001b[0m\u001b[0;34m\u001b[0m\u001b[0;34m\u001b[0m\u001b[0m\n\u001b[1;32m   2911\u001b[0m                 \u001b[0mkey\u001b[0m \u001b[0;34m=\u001b[0m \u001b[0mlist\u001b[0m\u001b[0;34m(\u001b[0m\u001b[0mkey\u001b[0m\u001b[0;34m)\u001b[0m\u001b[0;34m\u001b[0m\u001b[0;34m\u001b[0m\u001b[0m\n\u001b[0;32m-> 2912\u001b[0;31m             \u001b[0mindexer\u001b[0m \u001b[0;34m=\u001b[0m \u001b[0mself\u001b[0m\u001b[0;34m.\u001b[0m\u001b[0mloc\u001b[0m\u001b[0;34m.\u001b[0m\u001b[0m_get_listlike_indexer\u001b[0m\u001b[0;34m(\u001b[0m\u001b[0mkey\u001b[0m\u001b[0;34m,\u001b[0m \u001b[0maxis\u001b[0m\u001b[0;34m=\u001b[0m\u001b[0;36m1\u001b[0m\u001b[0;34m,\u001b[0m \u001b[0mraise_missing\u001b[0m\u001b[0;34m=\u001b[0m\u001b[0;32mTrue\u001b[0m\u001b[0;34m)\u001b[0m\u001b[0;34m[\u001b[0m\u001b[0;36m1\u001b[0m\u001b[0;34m]\u001b[0m\u001b[0;34m\u001b[0m\u001b[0;34m\u001b[0m\u001b[0m\n\u001b[0m\u001b[1;32m   2913\u001b[0m \u001b[0;34m\u001b[0m\u001b[0m\n\u001b[1;32m   2914\u001b[0m         \u001b[0;31m# take() does not accept boolean indexers\u001b[0m\u001b[0;34m\u001b[0m\u001b[0;34m\u001b[0m\u001b[0;34m\u001b[0m\u001b[0m\n",
      "\u001b[0;32m/opt/conda/lib/python3.7/site-packages/pandas/core/indexing.py\u001b[0m in \u001b[0;36m_get_listlike_indexer\u001b[0;34m(self, key, axis, raise_missing)\u001b[0m\n\u001b[1;32m   1252\u001b[0m             \u001b[0mkeyarr\u001b[0m\u001b[0;34m,\u001b[0m \u001b[0mindexer\u001b[0m\u001b[0;34m,\u001b[0m \u001b[0mnew_indexer\u001b[0m \u001b[0;34m=\u001b[0m \u001b[0max\u001b[0m\u001b[0;34m.\u001b[0m\u001b[0m_reindex_non_unique\u001b[0m\u001b[0;34m(\u001b[0m\u001b[0mkeyarr\u001b[0m\u001b[0;34m)\u001b[0m\u001b[0;34m\u001b[0m\u001b[0;34m\u001b[0m\u001b[0m\n\u001b[1;32m   1253\u001b[0m \u001b[0;34m\u001b[0m\u001b[0m\n\u001b[0;32m-> 1254\u001b[0;31m         \u001b[0mself\u001b[0m\u001b[0;34m.\u001b[0m\u001b[0m_validate_read_indexer\u001b[0m\u001b[0;34m(\u001b[0m\u001b[0mkeyarr\u001b[0m\u001b[0;34m,\u001b[0m \u001b[0mindexer\u001b[0m\u001b[0;34m,\u001b[0m \u001b[0maxis\u001b[0m\u001b[0;34m,\u001b[0m \u001b[0mraise_missing\u001b[0m\u001b[0;34m=\u001b[0m\u001b[0mraise_missing\u001b[0m\u001b[0;34m)\u001b[0m\u001b[0;34m\u001b[0m\u001b[0;34m\u001b[0m\u001b[0m\n\u001b[0m\u001b[1;32m   1255\u001b[0m         \u001b[0;32mreturn\u001b[0m \u001b[0mkeyarr\u001b[0m\u001b[0;34m,\u001b[0m \u001b[0mindexer\u001b[0m\u001b[0;34m\u001b[0m\u001b[0;34m\u001b[0m\u001b[0m\n\u001b[1;32m   1256\u001b[0m \u001b[0;34m\u001b[0m\u001b[0m\n",
      "\u001b[0;32m/opt/conda/lib/python3.7/site-packages/pandas/core/indexing.py\u001b[0m in \u001b[0;36m_validate_read_indexer\u001b[0;34m(self, key, indexer, axis, raise_missing)\u001b[0m\n\u001b[1;32m   1296\u001b[0m             \u001b[0;32mif\u001b[0m \u001b[0mmissing\u001b[0m \u001b[0;34m==\u001b[0m \u001b[0mlen\u001b[0m\u001b[0;34m(\u001b[0m\u001b[0mindexer\u001b[0m\u001b[0;34m)\u001b[0m\u001b[0;34m:\u001b[0m\u001b[0;34m\u001b[0m\u001b[0;34m\u001b[0m\u001b[0m\n\u001b[1;32m   1297\u001b[0m                 \u001b[0maxis_name\u001b[0m \u001b[0;34m=\u001b[0m \u001b[0mself\u001b[0m\u001b[0;34m.\u001b[0m\u001b[0mobj\u001b[0m\u001b[0;34m.\u001b[0m\u001b[0m_get_axis_name\u001b[0m\u001b[0;34m(\u001b[0m\u001b[0maxis\u001b[0m\u001b[0;34m)\u001b[0m\u001b[0;34m\u001b[0m\u001b[0;34m\u001b[0m\u001b[0m\n\u001b[0;32m-> 1298\u001b[0;31m                 \u001b[0;32mraise\u001b[0m \u001b[0mKeyError\u001b[0m\u001b[0;34m(\u001b[0m\u001b[0;34mf\"None of [{key}] are in the [{axis_name}]\"\u001b[0m\u001b[0;34m)\u001b[0m\u001b[0;34m\u001b[0m\u001b[0;34m\u001b[0m\u001b[0m\n\u001b[0m\u001b[1;32m   1299\u001b[0m \u001b[0;34m\u001b[0m\u001b[0m\n\u001b[1;32m   1300\u001b[0m             \u001b[0;31m# We (temporarily) allow for some missing keys with .loc, except in\u001b[0m\u001b[0;34m\u001b[0m\u001b[0;34m\u001b[0m\u001b[0;34m\u001b[0m\u001b[0m\n",
      "\u001b[0;31mKeyError\u001b[0m: \"None of [Index(['process_ggF', 'process_VBF', 'process_VH', 'process_ttH'], dtype='object')] are in the [columns]\""
     ]
    }
   ],
   "source": [
    "label = [\"process_ggF\", \"process_VBF\", \"process_VH\", \"process_ttH\"]\n",
    "pd.get_dummies(train_L)\n",
    "pd.get_dummies(test_L)\n",
    "pd.get_dummies(val_L)\n",
    "\n",
    "target_train_L = train_L[label]\n",
    "target_train_L = np.array(target_train_L)\n",
    "\n",
    "target_test_L = test_L[label]\n",
    "target_test_L = np.array(target_test_L)\n",
    "\n",
    "target_val_L = val_L[label]\n",
    "target_val_L = np.array(target_val_L)"
   ]
  },
  {
   "cell_type": "code",
   "execution_count": 18,
   "id": "upper-genre",
   "metadata": {
    "execution": {
     "iopub.execute_input": "2021-06-15T16:42:52.482243Z",
     "iopub.status.busy": "2021-06-15T16:42:52.480946Z",
     "iopub.status.idle": "2021-06-15T16:42:52.700390Z",
     "shell.execute_reply": "2021-06-15T16:42:52.699947Z"
    },
    "papermill": {
     "duration": 0.514111,
     "end_time": "2021-06-15T16:42:52.700516",
     "exception": false,
     "start_time": "2021-06-15T16:42:52.186405",
     "status": "completed"
    },
    "tags": []
   },
   "outputs": [],
   "source": [
    "features_L = [\"pt\", \"eta\", \"phi\", \"e\", \"rel_eta\", \"rel_phi\"]\n",
    "#features = [\"higgs_pt\", \"non_higgs_leading_pt\", \"non_higgs_leading_eta\", \"mjj\"]\n",
    "\n",
    "train_array_L = train_L[features_L]\n",
    "train_array_L = np.array(train_array_L)\n",
    "\n",
    "test_array_L = test_L[features_L]\n",
    "test_array_L = np.array(test_array_L)\n",
    "\n",
    "val_array_L = val_L[features_L]\n",
    "val_array_L = np.array(val_array_L)\n"
   ]
  },
  {
   "cell_type": "markdown",
   "id": "missing-classic",
   "metadata": {
    "papermill": {
     "duration": 0.201776,
     "end_time": "2021-06-15T16:42:53.100804",
     "exception": false,
     "start_time": "2021-06-15T16:42:52.899028",
     "status": "completed"
    },
    "tags": []
   },
   "source": [
    "## Histgram for low level feature"
   ]
  },
  {
   "cell_type": "markdown",
   "id": "waiting-plain",
   "metadata": {
    "papermill": {
     "duration": 0.236048,
     "end_time": "2021-06-15T16:42:53.536485",
     "exception": false,
     "start_time": "2021-06-15T16:42:53.300437",
     "status": "completed"
    },
    "tags": []
   },
   "source": [
    "# Discussion"
   ]
  },
  {
   "cell_type": "code",
   "execution_count": null,
   "id": "executed-banking",
   "metadata": {
    "papermill": {
     "duration": 0.217563,
     "end_time": "2021-06-15T16:42:53.960778",
     "exception": false,
     "start_time": "2021-06-15T16:42:53.743215",
     "status": "completed"
    },
    "tags": []
   },
   "outputs": [],
   "source": []
  }
 ],
 "metadata": {
  "kernelspec": {
   "display_name": "Python 3",
   "language": "python",
   "name": "python3"
  },
  "language_info": {
   "codemirror_mode": {
    "name": "ipython",
    "version": 3
   },
   "file_extension": ".py",
   "mimetype": "text/x-python",
   "name": "python",
   "nbconvert_exporter": "python",
   "pygments_lexer": "ipython3",
   "version": "3.7.10"
  },
  "papermill": {
   "default_parameters": {},
   "duration": 100.756014,
   "end_time": "2021-06-15T16:42:56.528763",
   "environment_variables": {},
   "exception": null,
   "input_path": "__notebook__.ipynb",
   "output_path": "__notebook__.ipynb",
   "parameters": {},
   "start_time": "2021-06-15T16:41:15.772749",
   "version": "2.3.3"
  }
 },
 "nbformat": 4,
 "nbformat_minor": 5
}
